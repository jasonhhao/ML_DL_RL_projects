{
 "cells": [
  {
   "cell_type": "markdown",
   "metadata": {},
   "source": [
    "data from https://www.kaggle.com/vikramb/mobile-price-eda-prediction"
   ]
  },
  {
   "cell_type": "code",
   "execution_count": 2,
   "metadata": {},
   "outputs": [],
   "source": [
    "import os\n",
    "import numpy as np\n",
    "import pandas as pd\n",
    "import matplotlib.pyplot as plt\n",
    "import seaborn as sns\n",
    "import time\n",
    "from sklearn.model_selection import train_test_split\n",
    "from sklearn.preprocessing import OneHotEncoder, StandardScaler\n",
    "\n",
    "from sklearn.linear_model import LogisticRegression\n",
    "from sklearn.neighbors import KNeighborsClassifier\n",
    "from sklearn.tree import DecisionTreeClassifier\n",
    "from sklearn.svm import SVC\n",
    "from sklearn.ensemble import AdaBoostClassifier, GradientBoostingClassifier, RandomForestClassifier\n",
    "from mlxtend.classifier import StackingClassifier\n",
    "from sklearn.model_selection import GridSearchCV"
   ]
  },
  {
   "cell_type": "code",
   "execution_count": 5,
   "metadata": {},
   "outputs": [],
   "source": [
    "all_data = pd.read_csv('data.csv')\n",
    "train_data, test_data = train_test_split(all_data, test_size=1/3, random_state=10)"
   ]
  },
  {
   "cell_type": "code",
   "execution_count": 11,
   "metadata": {},
   "outputs": [],
   "source": [
    "numeric_cols = ['battery_power', 'clock_speed', 'fc', 'int_memory', 'm_dep', 'mobile_wt',\n",
    "                'n_cores', 'pc', 'px_height', 'px_width', 'ram', 'sc_h', 'sc_w', 'talk_time']\n",
    "cat_cols = ['blue', 'dual_sim', 'four_g', 'three_g', 'touch_screen', 'wifi']\n",
    "feat_cols = numeric_cols + cat_cols\n",
    "label_col = 'price_range'\n",
    "\n",
    "\n",
    "trn_cat_feats = train_data[cat_cols].values\n",
    "tes_cat_feats = test_data[cat_cols].values\n",
    "\n",
    "\n",
    "trn_numeric_feats = train_data[numeric_cols]\n",
    "tes_numeric_feats = test_data[numeric_cols]\n",
    "\n",
    "\n",
    "enc = OneHotEncoder(sparse=False)\n",
    "enc_trn_cat_feats = enc.fit_transform(trn_cat_feats)\n",
    "enc_tes_cat_feats = enc.transform(tes_cat_feats)\n",
    "\n",
    "trn_all_feats = np.hstack((trn_numeric_feats, enc_trn_cat_feats))\n",
    "tes_all_feats = np.hstack((tes_numeric_feats, enc_tes_cat_feats))\n",
    "\n",
    "std_scaler = StandardScaler()\n",
    "scaled_trn_all_feats = std_scaler.fit_transform(trn_all_feats)\n",
    "scaled_tes_all_feats = std_scaler.transform(tes_all_feats)\n",
    "\n",
    "\n",
    "X_train = scaled_trn_all_feats\n",
    "\n",
    "X_test = scaled_tes_all_feats"
   ]
  },
  {
   "cell_type": "code",
   "execution_count": 12,
   "metadata": {
    "collapsed": true
   },
   "outputs": [],
   "source": [
    "y_train = train_data[label_col].values\n",
    "y_test = test_data[label_col].values"
   ]
  },
  {
   "cell_type": "code",
   "execution_count": 13,
   "metadata": {
    "collapsed": true
   },
   "outputs": [],
   "source": [
    "def train_model(X_train, y_train, X_test, y_test, model_name, model, param_range):\n",
    "\n",
    "    clf = GridSearchCV(estimator=model,\n",
    "                       param_grid=param_range,\n",
    "                       cv=5,\n",
    "                       scoring='accuracy',\n",
    "                       refit=True)\n",
    "    start = time.time()\n",
    "    clf.fit(X_train, y_train)\n",
    "\n",
    "    end = time.time()\n",
    "    duration = end - start\n",
    "    print('used {:.4f}s'.format(duration))\n",
    "\n",
    "    print('train acc：{:.3f}'.format(clf.score(X_train, y_train)))\n",
    "\n",
    "    score = clf.score(X_test, y_test)\n",
    "    print('test acc：{:.3f}'.format(score))\n",
    "    print('time used: {:.4f}s'.format(duration))\n",
    "    print()\n",
    "\n",
    "    return clf, score, duration"
   ]
  },
  {
   "cell_type": "code",
   "execution_count": 15,
   "metadata": {
    "collapsed": true
   },
   "outputs": [
    {
     "name": "stdout",
     "output_type": "stream",
     "text": [
      "used 1.1173s\n",
      "train acc：0.628\n",
      "test acc：0.565\n",
      "time used: 1.1173s\n",
      "\n",
      "used 0.2520s\n",
      "train acc：0.879\n",
      "test acc：0.841\n",
      "time used: 0.2520s\n",
      "\n",
      "used 2.0596s\n",
      "train acc：0.988\n",
      "test acc：0.973\n",
      "time used: 2.0596s\n",
      "\n",
      "used 0.1290s\n",
      "train acc：1.000\n",
      "test acc：0.796\n",
      "time used: 0.1290s\n",
      "\n",
      "used 114.5239s\n",
      "train acc：0.998\n",
      "test acc：0.831\n",
      "time used: 114.5239s\n",
      "\n",
      "used 6.4829s\n",
      "train acc：0.704\n",
      "test acc：0.654\n",
      "time used: 6.4829s\n",
      "\n",
      "used 18.2832s\n",
      "train acc：1.000\n",
      "test acc：0.885\n",
      "time used: 18.2832s\n",
      "\n",
      "used 9.4494s\n",
      "train acc：1.000\n",
      "test acc：0.853\n",
      "time used: 9.4494s\n",
      "\n",
      "\n",
      "===================== model results =====================\n"
     ]
    },
    {
     "data": {
      "image/png": "[encoded data removed]",
      "text/plain": [
       "<matplotlib.figure.Figure at 0x1a0d04c6d8>"
      ]
     },
     "metadata": {},
     "output_type": "display_data"
    }
   ],
   "source": [
    "\n",
    "\n",
    "sclf = StackingClassifier(classifiers=[KNeighborsClassifier(),\n",
    "                                       SVC(kernel='linear'),\n",
    "                                       DecisionTreeClassifier()],\n",
    "                          meta_classifier=LogisticRegression())\n",
    "\n",
    "model_name_param_dict = {'kNN': (KNeighborsClassifier(),\n",
    "                                 {'n_neighbors': [5, 25, 55]}),\n",
    "                         'LR': (LogisticRegression(),\n",
    "                                {'C': [0.01, 1, 100]}),\n",
    "                         'SVM': (SVC(kernel='linear'),\n",
    "                                 {'C': [0.01, 1, 100]}),\n",
    "                         'DT': (DecisionTreeClassifier(),\n",
    "                                {'max_depth': [50, 100, 150]}),\n",
    "                         'Stacking': (sclf,\n",
    "                                      {'kneighborsclassifier__n_neighbors': [5, 25, 55],\n",
    "                                       'svc__C': [0.01, 1, 100],\n",
    "                                       'decisiontreeclassifier__max_depth': [50, 100, 150],\n",
    "                                       'meta-logisticregression__C': [0.01, 1, 100]}),\n",
    "                         'AdaBoost': (AdaBoostClassifier(),\n",
    "                                      {'n_estimators': [50, 100, 150, 200]}),\n",
    "                         'GBDT': (GradientBoostingClassifier(),\n",
    "                                  {'learning_rate': [0.01, 0.1, 1, 10, 100]}),\n",
    "                         'RF': (RandomForestClassifier(),\n",
    "                                {'n_estimators': [100, 150, 200, 250]})}\n",
    "\n",
    "results_df = pd.DataFrame(columns=['Accuracy (%)', 'Time (s)'],\n",
    "                          index=list(model_name_param_dict.keys()))\n",
    "results_df.index.name = 'Model'\n",
    "\n",
    "for model_name, (model, param_range) in model_name_param_dict.items():\n",
    "    best_clf, best_acc, mean_duration = train_model(X_train, y_train, X_test, y_test,\n",
    "                                                    model_name, model, param_range)\n",
    "    results_df.loc[model_name, 'Accuracy (%)'] = best_acc * 100\n",
    "    results_df.loc[model_name, 'Time (s)'] = mean_duration\n",
    "\n",
    "print('\\n===================== model results =====================')\n",
    "\n",
    "plt.figure(figsize=(10, 4))\n",
    "ax1 = plt.subplot(1, 2, 1)\n",
    "results_df.plot(y=['Accuracy (%)'], kind='bar', ylim=[50, 100], ax=ax1, title='Accuracy(%)', legend=False)\n",
    "\n",
    "ax2 = plt.subplot(1, 2, 2)\n",
    "results_df.plot(y=['Time (s)'], kind='bar', ax=ax2, title='Time (s)', legend=False)\n",
    "plt.tight_layout()\n",
    "plt.show()\n"
   ]
  },
  {
   "cell_type": "code",
   "execution_count": null,
   "metadata": {
    "collapsed": true
   },
   "outputs": [],
   "source": []
  }
 ],
 "metadata": {
  "kernelspec": {
   "display_name": "Python 3",
   "language": "python",
   "name": "python3"
  },
  "language_info": {
   "codemirror_mode": {
    "name": "ipython",
    "version": 3
   },
   "file_extension": ".py",
   "mimetype": "text/x-python",
   "name": "python",
   "nbconvert_exporter": "python",
   "pygments_lexer": "ipython3",
   "version": "3.6.2"
  }
 },
 "nbformat": 4,
 "nbformat_minor": 2
}
