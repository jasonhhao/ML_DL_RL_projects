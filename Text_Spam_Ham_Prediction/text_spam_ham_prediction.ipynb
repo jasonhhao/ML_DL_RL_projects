{
 "cells": [
  {
   "cell_type": "code",
   "execution_count": 17,
   "metadata": {
    "collapsed": true
   },
   "outputs": [],
   "source": [
    "import re\n",
    "import os\n",
    "import nltk\n",
    "import numpy as np\n",
    "import pandas as pd\n",
    "import string\n",
    "from sklearn.model_selection import train_test_split\n",
    "from nltk.stem import WordNetLemmatizer\n",
    "from nltk.corpus import stopwords\n",
    "from sklearn.feature_extraction.text import TfidfVectorizer, CountVectorizer\n",
    "from sklearn.naive_bayes import GaussianNB\n",
    "from sklearn.metrics import accuracy_score, roc_auc_score"
   ]
  },
  {
   "cell_type": "code",
   "execution_count": null,
   "metadata": {},
   "outputs": [
    {
     "name": "stdout",
     "output_type": "stream",
     "text": [
      "showing info https://raw.githubusercontent.com/nltk/nltk_data/gh-pages/index.xml\n"
     ]
    }
   ],
   "source": [
    "nltk.download() ## download packages for stop words"
   ]
  },
  {
   "cell_type": "code",
   "execution_count": null,
   "metadata": {
    "collapsed": true
   },
   "outputs": [],
   "source": [
    "all_data = pd.read_csv('spam.csv')\n",
    "all_data['label'] = all_data['text_type'].map({'ham': 1,'spam': 0})"
   ]
  },
  {
   "cell_type": "code",
   "execution_count": null,
   "metadata": {
    "collapsed": true
   },
   "outputs": [],
   "source": [
    "def data_preprocessing(raw_text):\n",
    "    \n",
    "    raw_text = raw_text.lower()\n",
    "    filter_pattern = re.compile('[%s]' % re.escape(string.punctuation))\n",
    "    words_only = filter_pattern.sub('', raw_text)\n",
    "    raw_words = nltk.word_tokenize(words_only)\n",
    "    wordnet_lematizer = WordNetLemmatizer()\n",
    "    words = [wordnet_lematizer.lemmatize(raw_word) for raw_word in raw_words]\n",
    "    filtered_words = [word for word in words if word not in stopwords.words('english')]\n",
    "    proc_text = ' '.join(filtered_words)\n",
    "    \n",
    "    return proc_text"
   ]
  },
  {
   "cell_type": "code",
   "execution_count": null,
   "metadata": {},
   "outputs": [],
   "source": [
    "all_data['proc_text'] = all_data['text'].apply(data_preprocessing)\n",
    "all_data = all_data[all_data['proc_text'] != '']\n",
    "train_data, test_data = train_test_split(all_data, test_size=.2, random_state=0)"
   ]
  },
  {
   "cell_type": "code",
   "execution_count": null,
   "metadata": {},
   "outputs": [],
   "source": [
    "train_proc_text = train_data['proc_text'].values\n",
    "test_proc_text = test_data['proc_text'].values\n",
    "\n",
    "tfidf_vectorizer = TfidfVectorizer()\n",
    "train_tfidf_feat = tfidf_vectorizer.fit_transform(train_proc_text).toarray()\n",
    "test_tfidf_feat = tfidf_vectorizer.transform(test_proc_text).toarray()\n",
    "\n",
    "count_vectorizer = CountVectorizer()\n",
    "train_count_feat = count_vectorizer.fit_transform(train_proc_text).toarray()\n",
    "testcount_feat = count_vectorizer.transform(test_proc_text).toarray()\n",
    "\n",
    "X_train = np.hstack((train_tfidf_feat, train_count_feat))\n",
    "X_test = np.hstack((test_tfidf_feat, testcount_feat))\n",
    "\n",
    "y_train = train_data['label'].values\n",
    "y_test = test_data['label'].values"
   ]
  },
  {
   "cell_type": "code",
   "execution_count": 16,
   "metadata": {},
   "outputs": [
    {
     "name": "stdout",
     "output_type": "stream",
     "text": [
      "acc： 0.8940754039497307\n",
      "AUC： 0.891923436041083\n"
     ]
    }
   ],
   "source": [
    "nb_model = GaussianNB()\n",
    "nb_model.fit(X_train, y_train)\n",
    "y_pred = nb_model.predict(X_test)\n",
    "\n",
    "print('acc score：', accuracy_score(y_test, y_pred))\n",
    "print('AUC score：', roc_auc_score(y_test, y_pred))"
   ]
  }
 ],
 "metadata": {
  "kernelspec": {
   "display_name": "Python 3",
   "language": "python",
   "name": "python3"
  },
  "language_info": {
   "codemirror_mode": {
    "name": "ipython",
    "version": 3
   },
   "file_extension": ".py",
   "mimetype": "text/x-python",
   "name": "python",
   "nbconvert_exporter": "python",
   "pygments_lexer": "ipython3",
   "version": "3.6.2"
  }
 },
 "nbformat": 4,
 "nbformat_minor": 2
}
