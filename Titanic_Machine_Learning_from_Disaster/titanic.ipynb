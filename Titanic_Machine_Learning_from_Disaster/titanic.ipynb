{
 "cells": [
  {
   "cell_type": "code",
   "execution_count": 1,
   "metadata": {
    "collapsed": true
   },
   "outputs": [],
   "source": [
    "%matplotlib inline\n",
    "import os\n",
    "import pandas as pd\n",
    "import numpy as np\n",
    "import seaborn as sns\n",
    "import re\n",
    "import matplotlib.pyplot as plt\n",
    "from sklearn.model_selection import GridSearchCV\n",
    "import warnings\n",
    "from sklearn.ensemble import RandomForestRegressor\n",
    "warnings.filterwarnings(\"ignore\")"
   ]
  },
  {
   "cell_type": "markdown",
   "metadata": {},
   "source": [
    "# 读文件"
   ]
  },
  {
   "cell_type": "code",
   "execution_count": 2,
   "metadata": {
    "collapsed": true
   },
   "outputs": [],
   "source": [
    "train = pd.read_csv(\"train.csv\")\n",
    "test = pd.read_csv(\"test.csv\")"
   ]
  },
  {
   "cell_type": "code",
   "execution_count": 3,
   "metadata": {},
   "outputs": [
    {
     "name": "stdout",
     "output_type": "stream",
     "text": [
      "<class 'pandas.core.frame.DataFrame'>\n",
      "RangeIndex: 891 entries, 0 to 890\n",
      "Data columns (total 12 columns):\n",
      "PassengerId    891 non-null int64\n",
      "Survived       891 non-null int64\n",
      "Pclass         891 non-null int64\n",
      "Name           891 non-null object\n",
      "Sex            891 non-null object\n",
      "Age            714 non-null float64\n",
      "SibSp          891 non-null int64\n",
      "Parch          891 non-null int64\n",
      "Ticket         891 non-null object\n",
      "Fare           891 non-null float64\n",
      "Cabin          204 non-null object\n",
      "Embarked       889 non-null object\n",
      "dtypes: float64(2), int64(5), object(5)\n",
      "memory usage: 83.6+ KB\n"
     ]
    }
   ],
   "source": [
    "train.info()"
   ]
  },
  {
   "cell_type": "code",
   "execution_count": 4,
   "metadata": {},
   "outputs": [
    {
     "data": {
      "text/html": [
       "<div>\n",
       "<style>\n",
       "    .dataframe thead tr:only-child th {\n",
       "        text-align: right;\n",
       "    }\n",
       "\n",
       "    .dataframe thead th {\n",
       "        text-align: left;\n",
       "    }\n",
       "\n",
       "    .dataframe tbody tr th {\n",
       "        vertical-align: top;\n",
       "    }\n",
       "</style>\n",
       "<table border=\"1\" class=\"dataframe\">\n",
       "  <thead>\n",
       "    <tr style=\"text-align: right;\">\n",
       "      <th></th>\n",
       "      <th>PassengerId</th>\n",
       "      <th>Survived</th>\n",
       "      <th>Pclass</th>\n",
       "      <th>Age</th>\n",
       "      <th>SibSp</th>\n",
       "      <th>Parch</th>\n",
       "      <th>Fare</th>\n",
       "    </tr>\n",
       "  </thead>\n",
       "  <tbody>\n",
       "    <tr>\n",
       "      <th>count</th>\n",
       "      <td>891.000000</td>\n",
       "      <td>891.000000</td>\n",
       "      <td>891.000000</td>\n",
       "      <td>714.000000</td>\n",
       "      <td>891.000000</td>\n",
       "      <td>891.000000</td>\n",
       "      <td>891.000000</td>\n",
       "    </tr>\n",
       "    <tr>\n",
       "      <th>mean</th>\n",
       "      <td>446.000000</td>\n",
       "      <td>0.383838</td>\n",
       "      <td>2.308642</td>\n",
       "      <td>29.699118</td>\n",
       "      <td>0.523008</td>\n",
       "      <td>0.381594</td>\n",
       "      <td>32.204208</td>\n",
       "    </tr>\n",
       "    <tr>\n",
       "      <th>std</th>\n",
       "      <td>257.353842</td>\n",
       "      <td>0.486592</td>\n",
       "      <td>0.836071</td>\n",
       "      <td>14.526497</td>\n",
       "      <td>1.102743</td>\n",
       "      <td>0.806057</td>\n",
       "      <td>49.693429</td>\n",
       "    </tr>\n",
       "    <tr>\n",
       "      <th>min</th>\n",
       "      <td>1.000000</td>\n",
       "      <td>0.000000</td>\n",
       "      <td>1.000000</td>\n",
       "      <td>0.420000</td>\n",
       "      <td>0.000000</td>\n",
       "      <td>0.000000</td>\n",
       "      <td>0.000000</td>\n",
       "    </tr>\n",
       "    <tr>\n",
       "      <th>25%</th>\n",
       "      <td>223.500000</td>\n",
       "      <td>0.000000</td>\n",
       "      <td>2.000000</td>\n",
       "      <td>20.125000</td>\n",
       "      <td>0.000000</td>\n",
       "      <td>0.000000</td>\n",
       "      <td>7.910400</td>\n",
       "    </tr>\n",
       "    <tr>\n",
       "      <th>50%</th>\n",
       "      <td>446.000000</td>\n",
       "      <td>0.000000</td>\n",
       "      <td>3.000000</td>\n",
       "      <td>28.000000</td>\n",
       "      <td>0.000000</td>\n",
       "      <td>0.000000</td>\n",
       "      <td>14.454200</td>\n",
       "    </tr>\n",
       "    <tr>\n",
       "      <th>75%</th>\n",
       "      <td>668.500000</td>\n",
       "      <td>1.000000</td>\n",
       "      <td>3.000000</td>\n",
       "      <td>38.000000</td>\n",
       "      <td>1.000000</td>\n",
       "      <td>0.000000</td>\n",
       "      <td>31.000000</td>\n",
       "    </tr>\n",
       "    <tr>\n",
       "      <th>max</th>\n",
       "      <td>891.000000</td>\n",
       "      <td>1.000000</td>\n",
       "      <td>3.000000</td>\n",
       "      <td>80.000000</td>\n",
       "      <td>8.000000</td>\n",
       "      <td>6.000000</td>\n",
       "      <td>512.329200</td>\n",
       "    </tr>\n",
       "  </tbody>\n",
       "</table>\n",
       "</div>"
      ],
      "text/plain": [
       "       PassengerId    Survived      Pclass         Age       SibSp  \\\n",
       "count   891.000000  891.000000  891.000000  714.000000  891.000000   \n",
       "mean    446.000000    0.383838    2.308642   29.699118    0.523008   \n",
       "std     257.353842    0.486592    0.836071   14.526497    1.102743   \n",
       "min       1.000000    0.000000    1.000000    0.420000    0.000000   \n",
       "25%     223.500000    0.000000    2.000000   20.125000    0.000000   \n",
       "50%     446.000000    0.000000    3.000000   28.000000    0.000000   \n",
       "75%     668.500000    1.000000    3.000000   38.000000    1.000000   \n",
       "max     891.000000    1.000000    3.000000   80.000000    8.000000   \n",
       "\n",
       "            Parch        Fare  \n",
       "count  891.000000  891.000000  \n",
       "mean     0.381594   32.204208  \n",
       "std      0.806057   49.693429  \n",
       "min      0.000000    0.000000  \n",
       "25%      0.000000    7.910400  \n",
       "50%      0.000000   14.454200  \n",
       "75%      0.000000   31.000000  \n",
       "max      6.000000  512.329200  "
      ]
     },
     "execution_count": 4,
     "metadata": {},
     "output_type": "execute_result"
    }
   ],
   "source": [
    "train.describe()"
   ]
  },
  {
   "cell_type": "code",
   "execution_count": 5,
   "metadata": {},
   "outputs": [
    {
     "name": "stdout",
     "output_type": "stream",
     "text": [
      "<class 'pandas.core.frame.DataFrame'>\n",
      "RangeIndex: 418 entries, 0 to 417\n",
      "Data columns (total 11 columns):\n",
      "PassengerId    418 non-null int64\n",
      "Pclass         418 non-null int64\n",
      "Name           418 non-null object\n",
      "Sex            418 non-null object\n",
      "Age            332 non-null float64\n",
      "SibSp          418 non-null int64\n",
      "Parch          418 non-null int64\n",
      "Ticket         418 non-null object\n",
      "Fare           417 non-null float64\n",
      "Cabin          91 non-null object\n",
      "Embarked       418 non-null object\n",
      "dtypes: float64(2), int64(4), object(5)\n",
      "memory usage: 36.0+ KB\n"
     ]
    }
   ],
   "source": [
    "test.info()"
   ]
  },
  {
   "cell_type": "markdown",
   "metadata": {},
   "source": [
    "# 观察survived"
   ]
  },
  {
   "cell_type": "code",
   "execution_count": 6,
   "metadata": {},
   "outputs": [
    {
     "data": {
      "text/plain": [
       "0    0.616162\n",
       "1    0.383838\n",
       "Name: Survived, dtype: float64"
      ]
     },
     "execution_count": 6,
     "metadata": {},
     "output_type": "execute_result"
    }
   ],
   "source": [
    "train['Survived'].value_counts(normalize=True)"
   ]
  },
  {
   "cell_type": "code",
   "execution_count": 7,
   "metadata": {},
   "outputs": [
    {
     "data": {
      "text/plain": [
       "<matplotlib.axes._subplots.AxesSubplot at 0x115dcdc50>"
      ]
     },
     "execution_count": 7,
     "metadata": {},
     "output_type": "execute_result"
    },
    {
     "data": {
      "image/png": "[encoded data removed]",
      "text/plain": [
       "<matplotlib.figure.Figure at 0x115da7c18>"
      ]
     },
     "metadata": {},
     "output_type": "display_data"
    }
   ],
   "source": [
    "sns.countplot(train['Survived'])"
   ]
  },
  {
   "cell_type": "markdown",
   "metadata": {},
   "source": [
    "# 观察pclass"
   ]
  },
  {
   "cell_type": "code",
   "execution_count": 8,
   "metadata": {},
   "outputs": [
    {
     "data": {
      "text/plain": [
       "<matplotlib.axes._subplots.AxesSubplot at 0x10efe2080>"
      ]
     },
     "execution_count": 8,
     "metadata": {},
     "output_type": "execute_result"
    },
    {
     "data": {
      "image/png": "[encoded data removed]",
      "text/plain": [
       "<matplotlib.figure.Figure at 0x115da7940>"
      ]
     },
     "metadata": {},
     "output_type": "display_data"
    }
   ],
   "source": [
    "sns.countplot(train['Pclass'], hue=train['Survived'])"
   ]
  },
  {
   "cell_type": "code",
   "execution_count": 9,
   "metadata": {},
   "outputs": [
    {
     "data": {
      "text/plain": [
       "Pclass\n",
       "1    0.629630\n",
       "2    0.472826\n",
       "3    0.242363\n",
       "Name: Survived, dtype: float64"
      ]
     },
     "execution_count": 9,
     "metadata": {},
     "output_type": "execute_result"
    }
   ],
   "source": [
    "train['Survived'].groupby(train['Pclass']).mean()"
   ]
  },
  {
   "cell_type": "markdown",
   "metadata": {},
   "source": [
    "# 观察name"
   ]
  },
  {
   "cell_type": "code",
   "execution_count": 10,
   "metadata": {},
   "outputs": [
    {
     "data": {
      "text/plain": [
       "Mr.          517\n",
       "Miss.        182\n",
       "Mrs.         125\n",
       "Master.       40\n",
       "Dr.            7\n",
       "Rev.           6\n",
       "Major.         2\n",
       "Mlle.          2\n",
       "Col.           2\n",
       "Don.           1\n",
       "Mme.           1\n",
       "Jonkheer.      1\n",
       "Sir.           1\n",
       "Capt.          1\n",
       "Ms.            1\n",
       "Lady.          1\n",
       "the            1\n",
       "Name: name_title, dtype: int64"
      ]
     },
     "execution_count": 10,
     "metadata": {},
     "output_type": "execute_result"
    }
   ],
   "source": [
    "train['name_title'] = train['Name'].apply(lambda x: x.split(',')[1] if len(x.split(',')) > 1 else x.split(',')[0]).apply(lambda x: x.split()[0])\n",
    "train['name_title'].value_counts()"
   ]
  },
  {
   "cell_type": "code",
   "execution_count": 11,
   "metadata": {},
   "outputs": [
    {
     "data": {
      "text/plain": [
       "Mr.        240\n",
       "Miss.       78\n",
       "Mrs.        72\n",
       "Master.     21\n",
       "Rev.         2\n",
       "Col.         2\n",
       "Dr.          1\n",
       "Dona.        1\n",
       "Ms.          1\n",
       "Name: name_title, dtype: int64"
      ]
     },
     "execution_count": 11,
     "metadata": {},
     "output_type": "execute_result"
    }
   ],
   "source": [
    "test['name_title'] = test['Name'].apply(lambda x: x.split(',')[1] if len(x.split(',')) > 1 else x.split(',')[0]).apply(lambda x: x.split()[0])\n",
    "test['name_title'].value_counts()\n"
   ]
  },
  {
   "cell_type": "code",
   "execution_count": 12,
   "metadata": {},
   "outputs": [
    {
     "data": {
      "text/plain": [
       "name_title\n",
       "Master.    0.575000\n",
       "Miss.      0.702703\n",
       "Mr.        0.156673\n",
       "Mrs.       0.793651\n",
       "ignore     0.347826\n",
       "Name: Survived, dtype: float64"
      ]
     },
     "execution_count": 12,
     "metadata": {},
     "output_type": "execute_result"
    }
   ],
   "source": [
    "train['name_title'] = train['name_title'].replace('Mlle.', 'Miss.')\n",
    "train['name_title'] = train['name_title'].replace('Ms.', 'Miss.')\n",
    "train['name_title'] = train['name_title'].replace('Mme.', 'Mrs.')\n",
    "test['name_title'] = test['name_title'].replace('Ms.', 'Miss.')\n",
    "\n",
    "train['name_title'] = train['name_title'].replace(['Dr.', 'Col.', 'Don.', 'Jonkheer.', 'Capt.', 'Lady.', 'Major.', 'Sir.', 'the', 'Dona.', 'Rev.'], 'ignore')\n",
    "test['name_title'] = test['name_title'].replace(['Dr.', 'Col.', 'Dona.', 'Rev.'], 'ignore')\n",
    "train['Survived'].groupby(train['name_title']).mean()"
   ]
  },
  {
   "cell_type": "code",
   "execution_count": 13,
   "metadata": {},
   "outputs": [
    {
     "data": {
      "text/plain": [
       "Mr.        517\n",
       "Miss.      185\n",
       "Mrs.       126\n",
       "Master.     40\n",
       "ignore      23\n",
       "Name: name_title, dtype: int64"
      ]
     },
     "execution_count": 13,
     "metadata": {},
     "output_type": "execute_result"
    }
   ],
   "source": [
    "train['name_title'].value_counts()"
   ]
  },
  {
   "cell_type": "code",
   "execution_count": 14,
   "metadata": {},
   "outputs": [
    {
     "data": {
      "text/plain": [
       "Mr.        240\n",
       "Miss.       79\n",
       "Mrs.        72\n",
       "Master.     21\n",
       "ignore       6\n",
       "Name: name_title, dtype: int64"
      ]
     },
     "execution_count": 14,
     "metadata": {},
     "output_type": "execute_result"
    }
   ],
   "source": [
    "test['name_title'].value_counts()"
   ]
  },
  {
   "cell_type": "code",
   "execution_count": 15,
   "metadata": {
    "collapsed": true
   },
   "outputs": [],
   "source": [
    "#train['name_title'] = train['name_title'].map({\"Mr\": 1, \"Miss\": 4, \"Mrs\": 5, \"Master\": 3, \"ignore\": 2})\n",
    "#train['name_title'] = train['name_title'].fillna(0)"
   ]
  },
  {
   "cell_type": "code",
   "execution_count": 16,
   "metadata": {},
   "outputs": [
    {
     "data": {
      "text/plain": [
       "name_len\n",
       "(11.999, 19.0]    0.220588\n",
       "(19.0, 23.0]      0.301282\n",
       "(23.0, 27.0]      0.319797\n",
       "(27.0, 32.0]      0.442424\n",
       "(32.0, 82.0]      0.674556\n",
       "Name: Survived, dtype: float64"
      ]
     },
     "execution_count": 16,
     "metadata": {},
     "output_type": "execute_result"
    }
   ],
   "source": [
    "train['name_len'] = train['Name'].apply(lambda x: len(x))\n",
    "test['name_len'] = test['Name'].apply(lambda x: len(x))\n",
    "\n",
    "train['Survived'].groupby(pd.qcut(train['name_len'], 5)).mean()"
   ]
  },
  {
   "cell_type": "code",
   "execution_count": 17,
   "metadata": {
    "collapsed": true
   },
   "outputs": [],
   "source": [
    "\n",
    "train.loc[(train['name_len'] <= 19), 'name_len'] = 0\n",
    "train.loc[(train['name_len'] > 19) & (train['name_len'] <= 23), 'name_len'] = 1\n",
    "train.loc[(train['name_len'] > 23) & (train['name_len'] <= 27), 'name_len'] = 2\n",
    "train.loc[(train['name_len'] > 27) & (train['name_len'] <= 32), 'name_len'] = 3\n",
    "train.loc[(train['name_len'] > 32), 'name_len'] = 4\n",
    "\n",
    "\n",
    "test.loc[(test['name_len'] <= 19), 'name_len'] = 0\n",
    "test.loc[(test['name_len'] > 19) & (test['name_len'] <= 23), 'name_len'] = 1\n",
    "test.loc[(test['name_len'] > 23) & (test['name_len'] <= 27), 'name_len'] = 2\n",
    "test.loc[(test['name_len'] > 27) & (test['name_len'] <= 32), 'name_len'] = 3\n",
    "test.loc[(test['name_len'] > 32), 'name_len'] = 4\n"
   ]
  },
  {
   "cell_type": "markdown",
   "metadata": {},
   "source": [
    "# 观察sex "
   ]
  },
  {
   "cell_type": "code",
   "execution_count": 18,
   "metadata": {},
   "outputs": [
    {
     "data": {
      "text/plain": [
       "Sex\n",
       "female    0.742038\n",
       "male      0.188908\n",
       "Name: Survived, dtype: float64"
      ]
     },
     "execution_count": 18,
     "metadata": {},
     "output_type": "execute_result"
    }
   ],
   "source": [
    "train['Sex'].value_counts(normalize=True)\n",
    "train['Survived'].groupby(train['Sex']).mean()\n",
    "#train['Sex'] = train['Sex'].map( {'female': 1, 'male': 0} ).astype(int)\n",
    "#test['Sex'] = test['Sex'].map( {'female': 1, 'male': 0} ).astype(int)"
   ]
  },
  {
   "cell_type": "markdown",
   "metadata": {},
   "source": [
    "# 观察SibSp和parch"
   ]
  },
  {
   "cell_type": "code",
   "execution_count": 19,
   "metadata": {},
   "outputs": [
    {
     "data": {
      "text/plain": [
       "[<matplotlib.lines.Line2D at 0x11af67358>]"
      ]
     },
     "execution_count": 19,
     "metadata": {},
     "output_type": "execute_result"
    },
    {
     "data": {
      "image/png": "[encoded data removed]",
      "text/plain": [
       "<matplotlib.figure.Figure at 0x115da7be0>"
      ]
     },
     "metadata": {},
     "output_type": "display_data"
    }
   ],
   "source": [
    "plt.plot(train['Survived'].groupby(train['SibSp']).mean())"
   ]
  },
  {
   "cell_type": "code",
   "execution_count": 20,
   "metadata": {},
   "outputs": [
    {
     "data": {
      "text/plain": [
       "[<matplotlib.lines.Line2D at 0x11afc7358>]"
      ]
     },
     "execution_count": 20,
     "metadata": {},
     "output_type": "execute_result"
    },
    {
     "data": {
      "image/png": "[encoded data removed]",
      "text/plain": [
       "<matplotlib.figure.Figure at 0x11015cb00>"
      ]
     },
     "metadata": {},
     "output_type": "display_data"
    }
   ],
   "source": [
    "plt.plot(train['Survived'].groupby(train['Parch']).mean())"
   ]
  },
  {
   "cell_type": "code",
   "execution_count": 21,
   "metadata": {
    "collapsed": true
   },
   "outputs": [],
   "source": [
    "train['FamilySize'] = train['Parch'] + train['SibSp'] + 1\n",
    "\n",
    "train.loc[(train['Parch'] > 1) & (train['name_title'] == 'Miss.'), 'is_mother'] = 1\n",
    "train.loc[(train['Parch'] > 1) & (train['name_title'] == 'Mrs.'), 'is_mother'] = 1\n",
    "train['is_mother'].fillna(0, inplace=True)\n",
    "\n",
    "test.loc[(test['Parch'] > 1) & (test['name_title'] == 'Miss.'), 'is_mother'] = 1\n",
    "test.loc[(test['Parch'] > 1) & (test['name_title'] == 'Mrs.'), 'is_mother'] = 1\n",
    "test['is_mother'].fillna(0, inplace=True)\n",
    "\n",
    "train['Singleton'] = train['FamilySize'].map(lambda s: 1 if s == 1 else 0)\n",
    "train['SmallFamily'] = train['FamilySize'].map(lambda s: 1 if 2 <= s <= 4 else 0)\n",
    "train['LargeFamily'] = train['FamilySize'].map(lambda s: 1 if 5 <= s else 0)\n",
    "\n",
    "test['FamilySize'] = test['Parch'] + test['SibSp'] + 1\n",
    "test['Singleton'] = test['FamilySize'].map(lambda s: 1 if s == 1 else 0)\n",
    "test['SmallFamily'] = test['FamilySize'].map(lambda s: 1 if 2 <= s <= 4 else 0)\n",
    "test['LargeFamily'] = test['FamilySize'].map(lambda s: 1 if 5 <= s else 0)"
   ]
  },
  {
   "cell_type": "markdown",
   "metadata": {},
   "source": [
    "# 观察ticket"
   ]
  },
  {
   "cell_type": "code",
   "execution_count": 22,
   "metadata": {
    "collapsed": true
   },
   "outputs": [],
   "source": [
    "def getTicketPrefix(ticket):\n",
    "    match = re.compile(\"([a-zA-Z\\.\\/]+)\").search(ticket)\n",
    "    if match:\n",
    "        return match.group()\n",
    "    else:\n",
    "        return 'U'\n",
    "\n",
    "def getTicketNumber(ticket):\n",
    "    match = re.compile(\"([\\d]+$)\").search(ticket)\n",
    "    if match:\n",
    "        return match.group()\n",
    "    else:\n",
    "        return '0'\n",
    "    \n",
    "    \n",
    "train['TicketPrefix'] = train['Ticket'].map( lambda x : getTicketPrefix(x.upper()))\n",
    "train['TicketPrefix'] = train['TicketPrefix'].map( lambda x: re.sub('[\\.?\\/?]', '', x) )\n",
    "train['TicketPrefix'] = train['TicketPrefix'].map( lambda x: re.sub('STON', 'SOTON', x) ) \n",
    "train['TicketPrefixId'] = pd.factorize(train['TicketPrefix'])[0]\n",
    "train.drop(['TicketPrefix'], axis=1, inplace=True)\n",
    "\n",
    "test['TicketPrefix'] = test['Ticket'].map( lambda x : getTicketPrefix(x.upper()))\n",
    "test['TicketPrefix'] = test['TicketPrefix'].map( lambda x: re.sub('[\\.?\\/?]', '', x) )\n",
    "test['TicketPrefix'] = test['TicketPrefix'].map( lambda x: re.sub('STON', 'SOTON', x) ) \n",
    "test['TicketPrefixId'] = pd.factorize(test['TicketPrefix'])[0]\n",
    "test.drop(['TicketPrefix'], axis=1, inplace=True)\n",
    "\n",
    "\n",
    "\n",
    "\n",
    "\n",
    "\n",
    "train['TicketNumber'] = train['Ticket'].map( lambda x: getTicketNumber(x) )\n",
    "train['TicketNumberDigits'] = train['TicketNumber'].map( lambda x: len(x) ).astype(np.int)\n",
    "train['TicketNumberStart'] = train['TicketNumber'].map( lambda x: x[0:1] ).astype(np.int)\n",
    "train['TicketNumber'] = train.TicketNumber.astype(np.int)\n",
    "\n",
    "test['TicketNumber'] = test['Ticket'].map( lambda x: getTicketNumber(x) )\n",
    "test['TicketNumberDigits'] = test['TicketNumber'].map( lambda x: len(x) ).astype(np.int)\n",
    "test['TicketNumberStart'] = test['TicketNumber'].map( lambda x: x[0:1] ).astype(np.int)\n",
    "test['TicketNumber'] = test.TicketNumber.astype(np.int)\n"
   ]
  },
  {
   "cell_type": "markdown",
   "metadata": {},
   "source": [
    "# 观察cabin"
   ]
  },
  {
   "cell_type": "code",
   "execution_count": 23,
   "metadata": {
    "collapsed": true
   },
   "outputs": [],
   "source": [
    "train['Cabin'].fillna('U', inplace=True)\n",
    "test['Cabin'].fillna('U', inplace=True)"
   ]
  },
  {
   "cell_type": "code",
   "execution_count": 24,
   "metadata": {
    "collapsed": true
   },
   "outputs": [],
   "source": [
    "def getNum(x):\n",
    "    num = 0\n",
    "    for i in range(len(x)):\n",
    "        if x[i].isdigit():\n",
    "            num = x[i:i+3]\n",
    "            break\n",
    "    return int(num)\n"
   ]
  },
  {
   "cell_type": "code",
   "execution_count": 25,
   "metadata": {
    "collapsed": true
   },
   "outputs": [],
   "source": [
    "train['cabin_num'] = train['Cabin'].apply(lambda x: getNum(str(x)))\n",
    "test['cabin_num'] = test['Cabin'].apply(lambda x: getNum(str(x)))"
   ]
  },
  {
   "cell_type": "code",
   "execution_count": 26,
   "metadata": {},
   "outputs": [
    {
     "data": {
      "text/plain": [
       "cabin_num\n",
       "(-0.001, 8.0]    0.313725\n",
       "(8.0, 148.0]     0.666667\n",
       "Name: Survived, dtype: float64"
      ]
     },
     "execution_count": 26,
     "metadata": {},
     "output_type": "execute_result"
    }
   ],
   "source": [
    "train['Survived'].groupby(pd.qcut(train['cabin_num'],5, duplicates = 'drop')).mean()"
   ]
  },
  {
   "cell_type": "code",
   "execution_count": 27,
   "metadata": {
    "collapsed": true
   },
   "outputs": [],
   "source": [
    "train.loc[(train['cabin_num'] <= 8), 'cabin_num'] = 0\n",
    "train.loc[(train['cabin_num'] > 8), 'cabin_num'] = 1\n",
    "\n",
    "test.loc[(test['cabin_num'] <= 8), 'cabin_num'] = 0\n",
    "test.loc[(test['cabin_num'] > 8), 'cabin_num'] = 1"
   ]
  },
  {
   "cell_type": "code",
   "execution_count": 28,
   "metadata": {
    "collapsed": true
   },
   "outputs": [],
   "source": [
    "#train['Cabin'] = train['Cabin'].map(lambda x: 0 if type(x) == float else 1)\n",
    "#test['Cabin'] = test['Cabin'].map(lambda x: 0 if type(x) == float else 1)\n",
    "\n",
    "\n",
    "train['Cabin'] = train['Cabin'].apply(lambda x: x[0])\n",
    "test['Cabin'] = test['Cabin'].apply(lambda x: x[0])\n",
    "\n",
    "replacement = {\n",
    "    'T': 0,\n",
    "    'U': 1,\n",
    "    'A': 2,\n",
    "    'G': 3,\n",
    "    'C': 4,\n",
    "    'F': 5,\n",
    "    'B': 6,\n",
    "    'E': 7,\n",
    "    'D': 8\n",
    "}\n",
    "\n",
    "train['Cabin'] = train['Cabin'].apply(lambda x: replacement.get(x))\n",
    "test['Cabin'] = test['Cabin'].apply(lambda x: replacement.get(x))\n"
   ]
  },
  {
   "cell_type": "markdown",
   "metadata": {},
   "source": [
    "# 观察fare"
   ]
  },
  {
   "cell_type": "code",
   "execution_count": 29,
   "metadata": {
    "collapsed": true
   },
   "outputs": [],
   "source": [
    "test.Fare.fillna(test.iloc[:891].Fare.mean(), inplace=True)"
   ]
  },
  {
   "cell_type": "code",
   "execution_count": 30,
   "metadata": {},
   "outputs": [
    {
     "data": {
      "text/plain": [
       "Fare\n",
       "(-0.001, 7.854]      0.217877\n",
       "(7.854, 10.5]        0.201087\n",
       "(10.5, 21.679]       0.424419\n",
       "(21.679, 39.688]     0.444444\n",
       "(39.688, 512.329]    0.642045\n",
       "Name: Survived, dtype: float64"
      ]
     },
     "execution_count": 30,
     "metadata": {},
     "output_type": "execute_result"
    }
   ],
   "source": [
    "train['Survived'].groupby(pd.qcut(train['Fare'], 5)).mean()"
   ]
  },
  {
   "cell_type": "code",
   "execution_count": 31,
   "metadata": {
    "collapsed": true
   },
   "outputs": [],
   "source": [
    "train.loc[(train['Fare'] <= 7.854), 'Fare'] = 1\n",
    "train.loc[(train['Fare'] > 7.854) & (train['Fare'] <= 10.5), 'Fare'] = 0\n",
    "train.loc[(train['Fare'] > 10.5) & (train['Fare'] <= 21.679), 'Fare'] = 2\n",
    "train.loc[(train['Fare'] > 21.679) & (train['Fare'] <= 39.688), 'Fare'] = 3\n",
    "train.loc[(train['Fare'] > 39.688), 'Fare'] = 4\n",
    "train['Fare'] = train['Fare'].astype(int)\n",
    "\n",
    "\n",
    "test.loc[(test['Fare'] <= 7.854), 'Fare'] = 1\n",
    "test.loc[(test['Fare'] > 7.854) & (test['Fare'] <= 10.5), 'Fare'] = 0\n",
    "test.loc[(test['Fare'] > 10.5) & (test['Fare'] <= 21.679), 'Fare'] = 2\n",
    "test.loc[(test['Fare'] > 21.679) & (test['Fare'] <= 39.688), 'Fare'] = 3\n",
    "test.loc[(test['Fare'] > 39.688), 'Fare'] = 4\n",
    "test['Fare'] = test['Fare'].astype(int)"
   ]
  },
  {
   "cell_type": "markdown",
   "metadata": {},
   "source": [
    "# 观察embarked"
   ]
  },
  {
   "cell_type": "code",
   "execution_count": 32,
   "metadata": {},
   "outputs": [
    {
     "data": {
      "text/plain": [
       "S    644\n",
       "C    168\n",
       "Q     77\n",
       "Name: Embarked, dtype: int64"
      ]
     },
     "execution_count": 32,
     "metadata": {},
     "output_type": "execute_result"
    }
   ],
   "source": [
    "train['Embarked'].value_counts()"
   ]
  },
  {
   "cell_type": "code",
   "execution_count": 33,
   "metadata": {},
   "outputs": [
    {
     "data": {
      "text/plain": [
       "Embarked\n",
       "C    0.553571\n",
       "Q    0.389610\n",
       "S    0.336957\n",
       "Name: Survived, dtype: float64"
      ]
     },
     "execution_count": 33,
     "metadata": {},
     "output_type": "execute_result"
    }
   ],
   "source": [
    "train['Survived'].groupby(train['Embarked']).mean()"
   ]
  },
  {
   "cell_type": "code",
   "execution_count": 34,
   "metadata": {
    "collapsed": true
   },
   "outputs": [],
   "source": [
    "train['Embarked'] = train['Embarked'].fillna('S')\n",
    "#train['Embarked'] = train['Embarked'].map( {'S': 1, 'C': 3, 'Q': 2} ).astype(int)"
   ]
  },
  {
   "cell_type": "code",
   "execution_count": 35,
   "metadata": {},
   "outputs": [
    {
     "data": {
      "text/plain": [
       "<matplotlib.axes._subplots.AxesSubplot at 0x115da7198>"
      ]
     },
     "execution_count": 35,
     "metadata": {},
     "output_type": "execute_result"
    },
    {
     "data": {
      "image/png": "[encoded data removed]",
      "text/plain": [
       "<matplotlib.figure.Figure at 0x11b129e48>"
      ]
     },
     "metadata": {},
     "output_type": "display_data"
    }
   ],
   "source": [
    "sns.countplot(train['Embarked'], hue=train['Pclass'])"
   ]
  },
  {
   "cell_type": "markdown",
   "metadata": {},
   "source": [
    "# 观察age"
   ]
  },
  {
   "cell_type": "code",
   "execution_count": 36,
   "metadata": {
    "collapsed": true
   },
   "outputs": [],
   "source": [
    "train['age_flag'] = train['Age'].apply(lambda x: 1 if pd.isnull(x) else 0)\n",
    "test['age_flag'] = test['Age'].apply(lambda x: 1 if pd.isnull(x) else 0)"
   ]
  },
  {
   "cell_type": "code",
   "execution_count": 37,
   "metadata": {
    "collapsed": true
   },
   "outputs": [],
   "source": [
    "\n",
    "age_df = train[['Age', 'Fare', 'Parch', 'SibSp', 'is_mother', 'Singleton', 'Pclass']]\n",
    "trainX = pd.DataFrame(age_df.loc[ (train.Age.notnull()) ].values[:, 1:])\n",
    "trainy = pd.DataFrame(age_df.loc[ (train.Age.notnull()) ].values[:, 0])\n",
    "rtr = RandomForestRegressor(n_estimators=50, random_state = 0, n_jobs=-1)\n",
    "rtr.fit(trainX, trainy)\n",
    "predictedAges = rtr.predict(age_df.loc[ (train.Age.isnull()) ].values[:, 1:])\n",
    "train.loc[ (train.Age.isnull()), 'Age' ] = predictedAges \n",
    "\n",
    "\n",
    "age_df = test[['Age', 'Fare', 'Parch', 'SibSp', 'is_mother', 'Singleton', 'Pclass']]\n",
    "testX = age_df.loc[(test.Age.notnull())].values[:, 1:]\n",
    "testy = age_df.loc[(test.Age.notnull())].values[:, 0]  \n",
    "rtr = RandomForestRegressor(n_estimators=2000, random_state = 0, n_jobs=-1)\n",
    "rtr.fit(testX, testy)\n",
    "\n",
    "predictedAges = rtr.predict(age_df.loc[ (test.Age.isnull()) ].values[:, 1:])\n",
    "test.loc[ (test.Age.isnull()), 'Age' ] = predictedAges\n",
    "\n",
    "#grouped_age = train.groupby(['name_title', 'Pclass'])['Age']\n",
    "#train['Age'] = grouped_age.transform(lambda x: x.fillna(data['Age'].mean()) if pd.isnull(x.mean()) else x.fillna(x.mean()))\n",
    "\n",
    "#grouped_age = test.groupby(['name_title', 'Pclass'])['Age']\n",
    "#test['Age'] = grouped_age.transform(lambda x: x.fillna(test['Age'].mean()) if pd.isnull(x.mean()) else x.fillna(x.mean()))\n"
   ]
  },
  {
   "cell_type": "code",
   "execution_count": 38,
   "metadata": {},
   "outputs": [
    {
     "data": {
      "text/plain": [
       "Age\n",
       "(0.419, 19.827]    0.458101\n",
       "(19.827, 26.0]     0.324022\n",
       "(26.0, 30.0]       0.318919\n",
       "(30.0, 39.0]       0.450292\n",
       "(39.0, 80.0]       0.372881\n",
       "Name: Survived, dtype: float64"
      ]
     },
     "execution_count": 38,
     "metadata": {},
     "output_type": "execute_result"
    }
   ],
   "source": [
    "train['Survived'].groupby(pd.qcut(train['Age'], 5, duplicates = 'drop')).mean()"
   ]
  },
  {
   "cell_type": "code",
   "execution_count": 39,
   "metadata": {
    "collapsed": true
   },
   "outputs": [],
   "source": [
    "train.loc[(train['Age'] <= 19.867), 'Age_new'] = 4\n",
    "train.loc[(train['Age'] > 19.867) & (train['Age'] <= 26), 'Age_new'] = 1\n",
    "train.loc[(train['Age'] > 26) & (train['Age'] <= 30), 'Age_new'] = 0\n",
    "train.loc[(train['Age'] > 30) & (train['Age'] <= 39), 'Age_new'] = 3\n",
    "train.loc[(train['Age'] > 39), 'Age_new'] = 2\n",
    "\n",
    "\n",
    "test.loc[(test['Age'] <= 19.867), 'Age_new'] = 4\n",
    "test.loc[(test['Age'] > 19.867) & (test['Age'] <= 26), 'Age_new'] = 1\n",
    "test.loc[(test['Age'] > 26) & (test['Age'] <= 30), 'Age_new'] = 0\n",
    "test.loc[(test['Age'] > 30) & (test['Age'] <= 39), 'Age_new'] = 3\n",
    "test.loc[(test['Age'] > 39), 'Age_new'] = 2\n",
    "\n",
    "\n",
    "train['is_child'] = train['Age'].apply(lambda x: 1 if x < 18 else 0)\n",
    "test['is_child'] = test['Age'].apply(lambda x: 1 if x < 18 else 0)"
   ]
  },
  {
   "cell_type": "markdown",
   "metadata": {},
   "source": [
    "# drop列"
   ]
  },
  {
   "cell_type": "code",
   "execution_count": 40,
   "metadata": {
    "collapsed": true
   },
   "outputs": [],
   "source": [
    "train.drop(['Ticket','Name',], axis = 1, inplace = True)\n",
    "test.drop(['Ticket','Name',], axis = 1, inplace = True)"
   ]
  },
  {
   "cell_type": "markdown",
   "metadata": {},
   "source": [
    "# 转换dummy variable"
   ]
  },
  {
   "cell_type": "code",
   "execution_count": 41,
   "metadata": {
    "collapsed": true
   },
   "outputs": [],
   "source": [
    "def dummies(train, columns):\n",
    "    for col in columns:\n",
    "        train[col] = train[col].apply(lambda x: str(x))\n",
    "        new_cols = [col + '_' + i for i in train[col].unique()]\n",
    "        train = pd.concat([train, pd.get_dummies(train[col], prefix=col)[new_cols]], axis=1)\n",
    "        del train[col]\n",
    "    return train\n",
    "\n",
    "train = dummies(train,['Sex', 'Embarked', 'Pclass', 'name_title'])\n",
    "test = dummies(test, ['Sex', 'Embarked', 'Pclass', 'name_title'])"
   ]
  },
  {
   "cell_type": "code",
   "execution_count": 42,
   "metadata": {
    "collapsed": true
   },
   "outputs": [],
   "source": [
    "from sklearn import preprocessing\n",
    "\n",
    "scaler = preprocessing.MinMaxScaler()\n",
    "train.Age = scaler.fit_transform(train.Age.reshape(-1,1))\n",
    "test.Age = scaler.transform(test.Age.reshape(-1,1))\n",
    "\n",
    "train.SibSp = scaler.fit_transform(train.SibSp.reshape(-1,1))\n",
    "test.SibSp = scaler.transform(test.SibSp.reshape(-1,1))\n",
    "\n",
    "train.Parch = scaler.fit_transform(train.Parch.reshape(-1,1))\n",
    "test.Parch = scaler.transform(test.Parch.reshape(-1,1))\n",
    "\n",
    "train.FamilySize = scaler.fit_transform(train.FamilySize.reshape(-1,1))\n",
    "test.FamilySize = scaler.transform(test.FamilySize.reshape(-1,1))\n",
    "\n",
    "train.TicketNumber = scaler.fit_transform(train.TicketNumber.reshape(-1,1))\n",
    "test.TicketNumber = scaler.transform(test.TicketNumber.reshape(-1,1))"
   ]
  },
  {
   "cell_type": "code",
   "execution_count": 44,
   "metadata": {},
   "outputs": [
    {
     "name": "stdout",
     "output_type": "stream",
     "text": [
      "<class 'pandas.core.frame.DataFrame'>\n",
      "RangeIndex: 418 entries, 0 to 417\n",
      "Data columns (total 33 columns):\n",
      "PassengerId           418 non-null int64\n",
      "Age                   418 non-null float64\n",
      "SibSp                 418 non-null float64\n",
      "Parch                 418 non-null float64\n",
      "Fare                  418 non-null int64\n",
      "Cabin                 418 non-null int64\n",
      "name_len              418 non-null int64\n",
      "is_mother             418 non-null float64\n",
      "FamilySize            418 non-null float64\n",
      "Singleton             418 non-null int64\n",
      "SmallFamily           418 non-null int64\n",
      "LargeFamily           418 non-null int64\n",
      "TicketPrefixId        418 non-null int64\n",
      "TicketNumber          418 non-null float64\n",
      "TicketNumberDigits    418 non-null int64\n",
      "TicketNumberStart     418 non-null int64\n",
      "cabin_num             418 non-null int64\n",
      "age_flag              418 non-null int64\n",
      "Age_new               418 non-null float64\n",
      "is_child              418 non-null int64\n",
      "Sex_male              418 non-null uint8\n",
      "Sex_female            418 non-null uint8\n",
      "Embarked_Q            418 non-null uint8\n",
      "Embarked_S            418 non-null uint8\n",
      "Embarked_C            418 non-null uint8\n",
      "Pclass_3              418 non-null uint8\n",
      "Pclass_2              418 non-null uint8\n",
      "Pclass_1              418 non-null uint8\n",
      "name_title_Mr.        418 non-null uint8\n",
      "name_title_Mrs.       418 non-null uint8\n",
      "name_title_Miss.      418 non-null uint8\n",
      "name_title_Master.    418 non-null uint8\n",
      "name_title_ignore     418 non-null uint8\n",
      "dtypes: float64(7), int64(13), uint8(13)\n",
      "memory usage: 70.7 KB\n"
     ]
    }
   ],
   "source": [
    "test.info()"
   ]
  },
  {
   "cell_type": "code",
   "execution_count": 46,
   "metadata": {},
   "outputs": [
    {
     "data": {
      "text/html": [
       "<div>\n",
       "<style>\n",
       "    .dataframe thead tr:only-child th {\n",
       "        text-align: right;\n",
       "    }\n",
       "\n",
       "    .dataframe thead th {\n",
       "        text-align: left;\n",
       "    }\n",
       "\n",
       "    .dataframe tbody tr th {\n",
       "        vertical-align: top;\n",
       "    }\n",
       "</style>\n",
       "<table border=\"1\" class=\"dataframe\">\n",
       "  <thead>\n",
       "    <tr style=\"text-align: right;\">\n",
       "      <th></th>\n",
       "      <th>PassengerId</th>\n",
       "      <th>Age</th>\n",
       "      <th>SibSp</th>\n",
       "      <th>Parch</th>\n",
       "      <th>Fare</th>\n",
       "      <th>Cabin</th>\n",
       "      <th>name_len</th>\n",
       "      <th>is_mother</th>\n",
       "      <th>FamilySize</th>\n",
       "      <th>Singleton</th>\n",
       "      <th>...</th>\n",
       "      <th>Embarked_S</th>\n",
       "      <th>Embarked_C</th>\n",
       "      <th>Pclass_3</th>\n",
       "      <th>Pclass_2</th>\n",
       "      <th>Pclass_1</th>\n",
       "      <th>name_title_Mr.</th>\n",
       "      <th>name_title_Mrs.</th>\n",
       "      <th>name_title_Miss.</th>\n",
       "      <th>name_title_Master.</th>\n",
       "      <th>name_title_ignore</th>\n",
       "    </tr>\n",
       "  </thead>\n",
       "  <tbody>\n",
       "    <tr>\n",
       "      <th>0</th>\n",
       "      <td>892</td>\n",
       "      <td>0.428248</td>\n",
       "      <td>0.000</td>\n",
       "      <td>0.000000</td>\n",
       "      <td>1</td>\n",
       "      <td>1</td>\n",
       "      <td>0</td>\n",
       "      <td>0.0</td>\n",
       "      <td>0.0</td>\n",
       "      <td>1</td>\n",
       "      <td>...</td>\n",
       "      <td>0</td>\n",
       "      <td>0</td>\n",
       "      <td>1</td>\n",
       "      <td>0</td>\n",
       "      <td>0</td>\n",
       "      <td>1</td>\n",
       "      <td>0</td>\n",
       "      <td>0</td>\n",
       "      <td>0</td>\n",
       "      <td>0</td>\n",
       "    </tr>\n",
       "    <tr>\n",
       "      <th>1</th>\n",
       "      <td>893</td>\n",
       "      <td>0.585323</td>\n",
       "      <td>0.125</td>\n",
       "      <td>0.000000</td>\n",
       "      <td>1</td>\n",
       "      <td>1</td>\n",
       "      <td>3</td>\n",
       "      <td>0.0</td>\n",
       "      <td>0.1</td>\n",
       "      <td>0</td>\n",
       "      <td>...</td>\n",
       "      <td>1</td>\n",
       "      <td>0</td>\n",
       "      <td>1</td>\n",
       "      <td>0</td>\n",
       "      <td>0</td>\n",
       "      <td>0</td>\n",
       "      <td>1</td>\n",
       "      <td>0</td>\n",
       "      <td>0</td>\n",
       "      <td>0</td>\n",
       "    </tr>\n",
       "    <tr>\n",
       "      <th>2</th>\n",
       "      <td>894</td>\n",
       "      <td>0.773813</td>\n",
       "      <td>0.000</td>\n",
       "      <td>0.000000</td>\n",
       "      <td>0</td>\n",
       "      <td>1</td>\n",
       "      <td>2</td>\n",
       "      <td>0.0</td>\n",
       "      <td>0.0</td>\n",
       "      <td>1</td>\n",
       "      <td>...</td>\n",
       "      <td>0</td>\n",
       "      <td>0</td>\n",
       "      <td>0</td>\n",
       "      <td>1</td>\n",
       "      <td>0</td>\n",
       "      <td>1</td>\n",
       "      <td>0</td>\n",
       "      <td>0</td>\n",
       "      <td>0</td>\n",
       "      <td>0</td>\n",
       "    </tr>\n",
       "    <tr>\n",
       "      <th>3</th>\n",
       "      <td>895</td>\n",
       "      <td>0.334004</td>\n",
       "      <td>0.000</td>\n",
       "      <td>0.000000</td>\n",
       "      <td>0</td>\n",
       "      <td>1</td>\n",
       "      <td>0</td>\n",
       "      <td>0.0</td>\n",
       "      <td>0.0</td>\n",
       "      <td>1</td>\n",
       "      <td>...</td>\n",
       "      <td>1</td>\n",
       "      <td>0</td>\n",
       "      <td>1</td>\n",
       "      <td>0</td>\n",
       "      <td>0</td>\n",
       "      <td>1</td>\n",
       "      <td>0</td>\n",
       "      <td>0</td>\n",
       "      <td>0</td>\n",
       "      <td>0</td>\n",
       "    </tr>\n",
       "    <tr>\n",
       "      <th>4</th>\n",
       "      <td>896</td>\n",
       "      <td>0.271174</td>\n",
       "      <td>0.125</td>\n",
       "      <td>0.166667</td>\n",
       "      <td>2</td>\n",
       "      <td>1</td>\n",
       "      <td>4</td>\n",
       "      <td>0.0</td>\n",
       "      <td>0.2</td>\n",
       "      <td>0</td>\n",
       "      <td>...</td>\n",
       "      <td>1</td>\n",
       "      <td>0</td>\n",
       "      <td>1</td>\n",
       "      <td>0</td>\n",
       "      <td>0</td>\n",
       "      <td>0</td>\n",
       "      <td>1</td>\n",
       "      <td>0</td>\n",
       "      <td>0</td>\n",
       "      <td>0</td>\n",
       "    </tr>\n",
       "  </tbody>\n",
       "</table>\n",
       "<p>5 rows × 33 columns</p>\n",
       "</div>"
      ],
      "text/plain": [
       "   PassengerId       Age  SibSp     Parch  Fare  Cabin  name_len  is_mother  \\\n",
       "0          892  0.428248  0.000  0.000000     1      1         0        0.0   \n",
       "1          893  0.585323  0.125  0.000000     1      1         3        0.0   \n",
       "2          894  0.773813  0.000  0.000000     0      1         2        0.0   \n",
       "3          895  0.334004  0.000  0.000000     0      1         0        0.0   \n",
       "4          896  0.271174  0.125  0.166667     2      1         4        0.0   \n",
       "\n",
       "   FamilySize  Singleton        ...          Embarked_S  Embarked_C  Pclass_3  \\\n",
       "0         0.0          1        ...                   0           0         1   \n",
       "1         0.1          0        ...                   1           0         1   \n",
       "2         0.0          1        ...                   0           0         0   \n",
       "3         0.0          1        ...                   1           0         1   \n",
       "4         0.2          0        ...                   1           0         1   \n",
       "\n",
       "   Pclass_2  Pclass_1  name_title_Mr.  name_title_Mrs.  name_title_Miss.  \\\n",
       "0         0         0               1                0                 0   \n",
       "1         0         0               0                1                 0   \n",
       "2         1         0               1                0                 0   \n",
       "3         0         0               1                0                 0   \n",
       "4         0         0               0                1                 0   \n",
       "\n",
       "   name_title_Master.  name_title_ignore  \n",
       "0                   0                  0  \n",
       "1                   0                  0  \n",
       "2                   0                  0  \n",
       "3                   0                  0  \n",
       "4                   0                  0  \n",
       "\n",
       "[5 rows x 33 columns]"
      ]
     },
     "execution_count": 46,
     "metadata": {},
     "output_type": "execute_result"
    }
   ],
   "source": [
    "test.head()"
   ]
  },
  {
   "cell_type": "code",
   "execution_count": null,
   "metadata": {
    "collapsed": true
   },
   "outputs": [],
   "source": []
  },
  {
   "cell_type": "code",
   "execution_count": null,
   "metadata": {
    "collapsed": true
   },
   "outputs": [],
   "source": []
  },
  {
   "cell_type": "markdown",
   "metadata": {},
   "source": [
    "# 整合数据"
   ]
  },
  {
   "cell_type": "code",
   "execution_count": 43,
   "metadata": {
    "collapsed": true
   },
   "outputs": [],
   "source": [
    "label = train.iloc[:,1]\n",
    "train = train.iloc[:,2:]\n",
    "Id = test.iloc[:,0]\n",
    "test = test.iloc[:,1:]"
   ]
  },
  {
   "cell_type": "code",
   "execution_count": 44,
   "metadata": {
    "collapsed": true
   },
   "outputs": [],
   "source": [
    "from sklearn import metrics\n",
    "from sklearn.model_selection import train_test_split\n",
    "from sklearn.model_selection import cross_val_score\n",
    "from sklearn.feature_selection import SelectKBest\n",
    "from sklearn.feature_selection import chi2\n",
    "\n",
    "def measure_performance(X, y, clf, show_accuracy=True, show_classification_report=True, show_confussion_matrix=True):\n",
    "    y_pred = clf.predict(X)\n",
    "    if show_accuracy:\n",
    "        print(\"Accuracy:{0:.3f}\".format(metrics.accuracy_score(y, y_pred)),\"\\n\")\n",
    "    \n",
    "    if show_classification_report:\n",
    "        print(\"Classification report\")\n",
    "        print(metrics.classification_report(y, y_pred), \"\\n\")\n",
    "    \n",
    "    if show_confussion_matrix:\n",
    "        print(\"Confusion matrix\")\n",
    "        print(metrics.confusion_matrix(y, y_pred), \"\\n\")\n",
    "        \n",
    "skb = SelectKBest(chi2, k=25)\n",
    "train = skb.fit_transform(train, label)\n",
    "test = skb.transform(test)\n"
   ]
  },
  {
   "cell_type": "code",
   "execution_count": 45,
   "metadata": {
    "collapsed": true
   },
   "outputs": [],
   "source": [
    "\n",
    "trainX, testX, trainY, testY = train_test_split(train, label, test_size=0.2, random_state=1)"
   ]
  },
  {
   "cell_type": "markdown",
   "metadata": {},
   "source": [
    "# modeling"
   ]
  },
  {
   "cell_type": "markdown",
   "metadata": {},
   "source": [
    "# Logistic Regression"
   ]
  },
  {
   "cell_type": "code",
   "execution_count": 410,
   "metadata": {},
   "outputs": [
    {
     "name": "stdout",
     "output_type": "stream",
     "text": [
      "0.8384831460674157\n",
      "{'C': 1, 'max_iter': 40, 'random_state': 0, 'solver': 'lbfgs'}\n",
      "Accuracy:0.804 \n",
      "\n",
      "Classification report\n",
      "             precision    recall  f1-score   support\n",
      "\n",
      "          0       0.82      0.86      0.84       106\n",
      "          1       0.78      0.73      0.75        73\n",
      "\n",
      "avg / total       0.80      0.80      0.80       179\n",
      " \n",
      "\n",
      "Confusion matrix\n",
      "[[91 15]\n",
      " [20 53]] \n",
      "\n"
     ]
    }
   ],
   "source": [
    "from sklearn import linear_model\n",
    "lr = linear_model.LogisticRegression(C=1e5, random_state=0)\n",
    "parameters = {'C' : [.1, 1, 1e1,], 'solver' : ['lbfgs'], \n",
    "              'max_iter': [30, 40, 50], 'random_state': [0]}\n",
    "lr_opt = GridSearchCV(lr, parameters, scoring = 'accuracy', cv = 5)\n",
    "lr_opt.fit(trainX, trainY)\n",
    "print(lr_opt.best_score_)\n",
    "print(lr_opt.best_params_)\n",
    "\n",
    "measure_performance(testX, testY, lr_opt.best_estimator_)"
   ]
  },
  {
   "cell_type": "markdown",
   "metadata": {},
   "source": [
    "# Random Forest"
   ]
  },
  {
   "cell_type": "code",
   "execution_count": 448,
   "metadata": {},
   "outputs": [
    {
     "name": "stdout",
     "output_type": "stream",
     "text": [
      "0.8426966292134831\n",
      "{'max_depth': 5, 'n_estimators': 15, 'random_state': 0}\n",
      "Accuracy:0.816 \n",
      "\n",
      "Classification report\n",
      "             precision    recall  f1-score   support\n",
      "\n",
      "          0       0.81      0.91      0.85       106\n",
      "          1       0.83      0.68      0.75        73\n",
      "\n",
      "avg / total       0.82      0.82      0.81       179\n",
      " \n",
      "\n",
      "Confusion matrix\n",
      "[[96 10]\n",
      " [23 50]] \n",
      "\n"
     ]
    }
   ],
   "source": [
    "from sklearn.ensemble import RandomForestClassifier\n",
    "rf = RandomForestClassifier()\n",
    "parameters = {'max_depth' : [4,5,6], 'n_estimators': [15], 'random_state': [0]}\n",
    "rf_opt = GridSearchCV(rf, parameters, scoring = 'accuracy', cv = 5)\n",
    "rf_opt.fit(trainX, trainY)\n",
    "\n",
    "print(rf_opt.best_score_)\n",
    "print(rf_opt.best_params_)\n",
    "\n",
    "measure_performance(testX, testY, rf_opt.best_estimator_)"
   ]
  },
  {
   "cell_type": "markdown",
   "metadata": {},
   "source": [
    "# xgboost"
   ]
  },
  {
   "cell_type": "code",
   "execution_count": 413,
   "metadata": {},
   "outputs": [
    {
     "name": "stdout",
     "output_type": "stream",
     "text": [
      "0.848314606741573\n",
      "{'learning_rate': 0.1, 'max_depth': 4, 'n_estimators': 50, 'random_state': 0}\n",
      "Accuracy:0.799 \n",
      "\n",
      "Classification report\n",
      "             precision    recall  f1-score   support\n",
      "\n",
      "          0       0.79      0.90      0.84       106\n",
      "          1       0.81      0.66      0.73        73\n",
      "\n",
      "avg / total       0.80      0.80      0.79       179\n",
      " \n",
      "\n",
      "Confusion matrix\n",
      "[[95 11]\n",
      " [25 48]] \n",
      "\n"
     ]
    }
   ],
   "source": [
    "from xgboost import XGBClassifier\n",
    "xgb = XGBClassifier()\n",
    "parameters = {'max_depth' : [4], 'learning_rate': [0.1, .01, .001, 0.0001], \n",
    "              'n_estimators': [25, 50, 75], 'random_state': [0]}\n",
    "xgb_opt = GridSearchCV(xgb, parameters, scoring = 'accuracy', cv = 5)\n",
    "xgb_opt.fit(trainX, trainY)\n",
    "\n",
    "print(xgb_opt.best_score_)\n",
    "print(xgb_opt.best_params_)\n",
    "\n",
    "measure_performance(testX, testY, xgb_opt.best_estimator_)"
   ]
  },
  {
   "cell_type": "markdown",
   "metadata": {},
   "source": [
    "# AdaBoost"
   ]
  },
  {
   "cell_type": "code",
   "execution_count": 414,
   "metadata": {},
   "outputs": [
    {
     "name": "stdout",
     "output_type": "stream",
     "text": [
      "0.8160112359550562\n",
      "{'learning_rate': 0.1, 'n_estimators': 75, 'random_state': 0}\n",
      "Accuracy:0.799 \n",
      "\n",
      "Classification report\n",
      "             precision    recall  f1-score   support\n",
      "\n",
      "          0       0.80      0.88      0.84       106\n",
      "          1       0.79      0.68      0.74        73\n",
      "\n",
      "avg / total       0.80      0.80      0.80       179\n",
      " \n",
      "\n",
      "Confusion matrix\n",
      "[[93 13]\n",
      " [23 50]] \n",
      "\n"
     ]
    }
   ],
   "source": [
    "from sklearn.ensemble import AdaBoostClassifier\n",
    "\n",
    "ada = AdaBoostClassifier()\n",
    "parameters = {'n_estimators': [25, 50, 75], 'learning_rate': [0.1, .01, .001, 0.0001], 'random_state': [0]}\n",
    "\n",
    "ada_opt = GridSearchCV(ada, parameters, scoring = 'accuracy', cv = 5)\n",
    "ada_opt.fit(trainX, trainY)\n",
    "\n",
    "print(ada_opt.best_score_)\n",
    "print(ada_opt.best_params_)\n",
    "\n",
    "measure_performance(testX, testY, ada_opt.best_estimator_)"
   ]
  },
  {
   "cell_type": "markdown",
   "metadata": {},
   "source": [
    "# GBDT"
   ]
  },
  {
   "cell_type": "code",
   "execution_count": 415,
   "metadata": {},
   "outputs": [
    {
     "name": "stdout",
     "output_type": "stream",
     "text": [
      "0.8370786516853933\n",
      "{'learning_rate': 0.1, 'loss': 'exponential', 'max_depth': 5, 'n_estimators': 50, 'random_state': 0}\n",
      "Accuracy:0.793 \n",
      "\n",
      "Classification report\n",
      "             precision    recall  f1-score   support\n",
      "\n",
      "          0       0.79      0.89      0.84       106\n",
      "          1       0.80      0.66      0.72        73\n",
      "\n",
      "avg / total       0.79      0.79      0.79       179\n",
      " \n",
      "\n",
      "Confusion matrix\n",
      "[[94 12]\n",
      " [25 48]] \n",
      "\n"
     ]
    }
   ],
   "source": [
    "from sklearn.ensemble import GradientBoostingClassifier\n",
    "\n",
    "gbdt = GradientBoostingClassifier()\n",
    "parameters = {'loss' : ['deviance', 'exponential'],\n",
    "              'n_estimators': [25, 50, 75], \n",
    "              'learning_rate': [ 0.1, .01, .001], \n",
    "              'max_depth': [5],\n",
    "              'random_state': [0],}\n",
    "\n",
    "gbdt_opt = GridSearchCV(gbdt, parameters, scoring = 'accuracy', cv = 5)\n",
    "gbdt_opt.fit(trainX, trainY)\n",
    "\n",
    "print(gbdt_opt.best_score_)\n",
    "print(gbdt_opt.best_params_)\n",
    "\n",
    "measure_performance(testX, testY, gbdt_opt.best_estimator_)\n"
   ]
  },
  {
   "cell_type": "markdown",
   "metadata": {},
   "source": [
    "# Extra Trees"
   ]
  },
  {
   "cell_type": "code",
   "execution_count": 416,
   "metadata": {},
   "outputs": [
    {
     "name": "stdout",
     "output_type": "stream",
     "text": [
      "0.8441011235955056\n",
      "{'bootstrap': True, 'criterion': 'entropy', 'max_depth': 6, 'min_samples_split': 2, 'n_estimators': 30, 'random_state': 0}\n",
      "Accuracy:0.799 \n",
      "\n",
      "Classification report\n",
      "             precision    recall  f1-score   support\n",
      "\n",
      "          0       0.79      0.91      0.84       106\n",
      "          1       0.82      0.64      0.72        73\n",
      "\n",
      "avg / total       0.80      0.80      0.79       179\n",
      " \n",
      "\n",
      "Confusion matrix\n",
      "[[96 10]\n",
      " [26 47]] \n",
      "\n"
     ]
    }
   ],
   "source": [
    "from sklearn.ensemble import ExtraTreesClassifier\n",
    "\n",
    "et = ExtraTreesClassifier()\n",
    "parameters = {'criterion': ['entropy', 'gini'],\n",
    "              'n_estimators': [30],\n",
    "              'bootstrap': [True, False],\n",
    "              'max_depth': [6],\n",
    "              'min_samples_split': [2],\n",
    "              'random_state': [0],}\n",
    "\n",
    "et_opt = GridSearchCV(et, parameters, scoring = 'accuracy', cv = 5)\n",
    "et_opt.fit(trainX, trainY)\n",
    "\n",
    "print(et_opt.best_score_)\n",
    "print(et_opt.best_params_)\n",
    "\n",
    "measure_performance(testX, testY, et_opt.best_estimator_)"
   ]
  },
  {
   "cell_type": "markdown",
   "metadata": {},
   "source": [
    "# Decision Tree"
   ]
  },
  {
   "cell_type": "code",
   "execution_count": 417,
   "metadata": {},
   "outputs": [
    {
     "name": "stdout",
     "output_type": "stream",
     "text": [
      "0.8188202247191011\n",
      "{'criterion': 'entropy', 'max_depth': 4, 'min_samples_split': 2, 'random_state': 0}\n",
      "Accuracy:0.804 \n",
      "\n",
      "Classification report\n",
      "             precision    recall  f1-score   support\n",
      "\n",
      "          0       0.81      0.88      0.84       106\n",
      "          1       0.80      0.70      0.74        73\n",
      "\n",
      "avg / total       0.80      0.80      0.80       179\n",
      " \n",
      "\n",
      "Confusion matrix\n",
      "[[93 13]\n",
      " [22 51]] \n",
      "\n"
     ]
    }
   ],
   "source": [
    "from sklearn.tree import DecisionTreeClassifier\n",
    "\n",
    "dt = DecisionTreeClassifier()\n",
    "\n",
    "parameters = {'criterion': ['entropy', 'gini'],\n",
    "              'max_depth': [2,3,4],\n",
    "              'min_samples_split': [2, 3],\n",
    "              'random_state': [0],\n",
    "             }\n",
    "\n",
    "dt_opt = GridSearchCV(dt, parameters, scoring = 'accuracy', cv = 5)\n",
    "dt_opt.fit(trainX, trainY)\n",
    "\n",
    "print(dt_opt.best_score_)\n",
    "print(dt_opt.best_params_)\n",
    "\n",
    "measure_performance(testX, testY, dt_opt.best_estimator_)\n"
   ]
  },
  {
   "cell_type": "markdown",
   "metadata": {},
   "source": [
    "# SVM"
   ]
  },
  {
   "cell_type": "code",
   "execution_count": 418,
   "metadata": {},
   "outputs": [
    {
     "name": "stdout",
     "output_type": "stream",
     "text": [
      "0.8342696629213483\n",
      "{'random_state': 0}\n",
      "Accuracy:0.804 \n",
      "\n",
      "Classification report\n",
      "             precision    recall  f1-score   support\n",
      "\n",
      "          0       0.81      0.87      0.84       106\n",
      "          1       0.79      0.71      0.75        73\n",
      "\n",
      "avg / total       0.80      0.80      0.80       179\n",
      " \n",
      "\n",
      "Confusion matrix\n",
      "[[92 14]\n",
      " [21 52]] \n",
      "\n"
     ]
    }
   ],
   "source": [
    "from sklearn import svm\n",
    "svm = svm.SVC()\n",
    "parameters = {\n",
    "              'random_state': [0],\n",
    "             }\n",
    "\n",
    "svm_opt = GridSearchCV(svm, parameters, scoring = 'accuracy', cv = 5)\n",
    "svm_opt.fit(trainX, trainY)\n",
    "\n",
    "print(svm_opt.best_score_)\n",
    "print(svm_opt.best_params_)\n",
    "\n",
    "measure_performance(testX, testY, svm_opt.best_estimator_)"
   ]
  },
  {
   "cell_type": "markdown",
   "metadata": {},
   "source": [
    "# lightGBM"
   ]
  },
  {
   "cell_type": "code",
   "execution_count": 49,
   "metadata": {},
   "outputs": [
    {
     "name": "stdout",
     "output_type": "stream",
     "text": [
      "0.8497191011235955\n",
      "{'boosting': 'gbdt', 'learning_rate': 0.1, 'max_depth': 4, 'metric': 'binary_logloss', 'n_estimators': 25, 'objective': 'binary', 'tree_learner': 'voting'}\n",
      "Accuracy:0.771 \n",
      "\n",
      "Classification report\n",
      "             precision    recall  f1-score   support\n",
      "\n",
      "          0       0.77      0.88      0.82       106\n",
      "          1       0.78      0.62      0.69        73\n",
      "\n",
      "avg / total       0.77      0.77      0.77       179\n",
      " \n",
      "\n",
      "Confusion matrix\n",
      "[[93 13]\n",
      " [28 45]] \n",
      "\n"
     ]
    }
   ],
   "source": [
    "import lightgbm as lgb\n",
    "params_opt = {\n",
    "    'boosting': ['gbdt'],\n",
    "    'tree_learner': ['voting'],\n",
    "    'metric': ['binary_logloss'],\n",
    "    'objective': ['binary'],   \n",
    "    'n_estimators':[10, 25, 50, 75,100], \n",
    "    'learning_rate': [0.1, .01],\n",
    "    'max_depth': [4],\n",
    "}\n",
    "\n",
    "\n",
    "\n",
    "\n",
    "lgbm = lgb.LGBMClassifier()\n",
    "\n",
    "lgbm_opt = GridSearchCV(lgbm, params_opt, scoring = 'accuracy', cv = 5)\n",
    "lgbm_opt.fit(trainX, trainY)\n",
    "\n",
    "print(lgbm_opt.best_score_)\n",
    "print(lgbm_opt.best_params_)\n",
    "\n",
    "measure_performance(testX, testY, lgbm_opt.best_estimator_)"
   ]
  },
  {
   "cell_type": "markdown",
   "metadata": {},
   "source": [
    "# model voting"
   ]
  },
  {
   "cell_type": "code",
   "execution_count": 426,
   "metadata": {},
   "outputs": [
    {
     "name": "stdout",
     "output_type": "stream",
     "text": [
      "Accuracy:0.816 \n",
      "\n",
      "Classification report\n",
      "             precision    recall  f1-score   support\n",
      "\n",
      "          0       0.81      0.90      0.85       106\n",
      "          1       0.82      0.70      0.76        73\n",
      "\n",
      "avg / total       0.82      0.82      0.81       179\n",
      " \n",
      "\n",
      "Confusion matrix\n",
      "[[95 11]\n",
      " [22 51]] \n",
      "\n"
     ]
    }
   ],
   "source": [
    "from sklearn.ensemble import VotingClassifier\n",
    "vc =VotingClassifier(estimators=[('lr', lr_opt.best_estimator_), \n",
    "                                 ('rf', rf_opt.best_estimator_), \n",
    "                                 ('xgb', xgb_opt.best_estimator_), \n",
    "                                 ('ada', ada_opt.best_estimator_), \n",
    "                                 ('gbdt', gbdt_opt.best_estimator_), \n",
    "                                 ('et', et_opt.best_estimator_), \n",
    "                                 ('dt', dt_opt.best_estimator_),\n",
    "                                 ('svm', svm_opt.best_estimator_),\n",
    "                                 ('lgbm', lgbm_opt.best_estimator_),\n",
    "                                ], \n",
    "                     voting='hard')\n",
    "\n",
    "vc.fit(trainX, trainY)\n",
    "measure_performance(testX, testY, vc)"
   ]
  },
  {
   "cell_type": "markdown",
   "metadata": {
    "collapsed": true
   },
   "source": [
    "# submit result"
   ]
  },
  {
   "cell_type": "code",
   "execution_count": 441,
   "metadata": {
    "collapsed": true
   },
   "outputs": [],
   "source": [
    "\n",
    "pred = rf_opt.best_estimator_.predict(test)\n",
    "Submission = pd.DataFrame({ 'PassengerId': Id,'Survived': pred })\n",
    "Submission.to_csv(\"Submission.csv\", index=False)"
   ]
  },
  {
   "cell_type": "code",
   "execution_count": null,
   "metadata": {
    "collapsed": true
   },
   "outputs": [],
   "source": []
  }
 ],
 "metadata": {
  "kernelspec": {
   "display_name": "Python 3",
   "language": "python",
   "name": "python3"
  },
  "language_info": {
   "codemirror_mode": {
    "name": "ipython",
    "version": 3
   },
   "file_extension": ".py",
   "mimetype": "text/x-python",
   "name": "python",
   "nbconvert_exporter": "python",
   "pygments_lexer": "ipython3",
   "version": "3.6.2"
  }
 },
 "nbformat": 4,
 "nbformat_minor": 2
}
