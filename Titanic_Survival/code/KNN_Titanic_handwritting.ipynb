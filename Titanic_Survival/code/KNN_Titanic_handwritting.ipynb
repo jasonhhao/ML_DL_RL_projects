{
 "cells": [
  {
   "cell_type": "markdown",
   "metadata": {
    "_cell_guid": "7547534f-4f37-4ceb-be6a-b30bb7b81522",
    "_uuid": "9a9402fca5e5f315bde785dab5270143489fd765"
   },
   "source": [
    "# Titanic\n",
    "https://www.kaggle.com/c/titanic"
   ]
  },
  {
   "cell_type": "code",
   "execution_count": 1,
   "metadata": {
    "_cell_guid": "60a9f86c-3966-b593-db50-3117a967407a",
    "_uuid": "8a4741ef1b24ea52c847f34a6644e0aecfc1fec6",
    "collapsed": true
   },
   "outputs": [],
   "source": [
    "import numpy as np \n",
    "import pandas as pd \n",
    "import matplotlib.pyplot as plt "
   ]
  },
  {
   "cell_type": "code",
   "execution_count": 2,
   "metadata": {
    "_cell_guid": "6a8f6ab7-616e-cd98-7078-728d76927f61",
    "_uuid": "b4e2c3a4e99f8d72efdf0b9f29eb4f030e517d74",
    "collapsed": true
   },
   "outputs": [],
   "source": [
    "dataset=pd.read_csv('../input/train.csv')\n",
    "testset=pd.read_csv('../input/test.csv')\n"
   ]
  },
  {
   "cell_type": "code",
   "execution_count": 3,
   "metadata": {
    "_cell_guid": "a7dc0f9b-e279-42d8-86fd-70bf0d57810f",
    "_uuid": "2aa73900cdef03ddd06cebbb1aa840415139852f"
   },
   "outputs": [
    {
     "data": {
      "text/plain": [
       "Index(['PassengerId', 'Survived', 'Pclass', 'Name', 'Sex', 'Age', 'SibSp',\n",
       "       'Parch', 'Ticket', 'Fare', 'Cabin', 'Embarked'],\n",
       "      dtype='object')"
      ]
     },
     "execution_count": 3,
     "metadata": {},
     "output_type": "execute_result"
    }
   ],
   "source": [
    "dataset.columns"
   ]
  },
  {
   "cell_type": "code",
   "execution_count": 4,
   "metadata": {
    "_cell_guid": "f55e3858-cf60-4acb-ad18-15db6b16c523",
    "_uuid": "25f08a485ab1d9ca90f45fa723f0e5f9b458fd68"
   },
   "outputs": [
    {
     "data": {
      "text/html": [
       "<div>\n",
       "<style>\n",
       "    .dataframe thead tr:only-child th {\n",
       "        text-align: right;\n",
       "    }\n",
       "\n",
       "    .dataframe thead th {\n",
       "        text-align: left;\n",
       "    }\n",
       "\n",
       "    .dataframe tbody tr th {\n",
       "        vertical-align: top;\n",
       "    }\n",
       "</style>\n",
       "<table border=\"1\" class=\"dataframe\">\n",
       "  <thead>\n",
       "    <tr style=\"text-align: right;\">\n",
       "      <th></th>\n",
       "      <th>PassengerId</th>\n",
       "      <th>Survived</th>\n",
       "      <th>Pclass</th>\n",
       "      <th>Name</th>\n",
       "      <th>Sex</th>\n",
       "      <th>Age</th>\n",
       "      <th>SibSp</th>\n",
       "      <th>Parch</th>\n",
       "      <th>Ticket</th>\n",
       "      <th>Fare</th>\n",
       "      <th>Cabin</th>\n",
       "      <th>Embarked</th>\n",
       "    </tr>\n",
       "  </thead>\n",
       "  <tbody>\n",
       "    <tr>\n",
       "      <th>0</th>\n",
       "      <td>1</td>\n",
       "      <td>0</td>\n",
       "      <td>3</td>\n",
       "      <td>Braund, Mr. Owen Harris</td>\n",
       "      <td>male</td>\n",
       "      <td>22.0</td>\n",
       "      <td>1</td>\n",
       "      <td>0</td>\n",
       "      <td>A/5 21171</td>\n",
       "      <td>7.2500</td>\n",
       "      <td>NaN</td>\n",
       "      <td>S</td>\n",
       "    </tr>\n",
       "    <tr>\n",
       "      <th>1</th>\n",
       "      <td>2</td>\n",
       "      <td>1</td>\n",
       "      <td>1</td>\n",
       "      <td>Cumings, Mrs. John Bradley (Florence Briggs Th...</td>\n",
       "      <td>female</td>\n",
       "      <td>38.0</td>\n",
       "      <td>1</td>\n",
       "      <td>0</td>\n",
       "      <td>PC 17599</td>\n",
       "      <td>71.2833</td>\n",
       "      <td>C85</td>\n",
       "      <td>C</td>\n",
       "    </tr>\n",
       "    <tr>\n",
       "      <th>2</th>\n",
       "      <td>3</td>\n",
       "      <td>1</td>\n",
       "      <td>3</td>\n",
       "      <td>Heikkinen, Miss. Laina</td>\n",
       "      <td>female</td>\n",
       "      <td>26.0</td>\n",
       "      <td>0</td>\n",
       "      <td>0</td>\n",
       "      <td>STON/O2. 3101282</td>\n",
       "      <td>7.9250</td>\n",
       "      <td>NaN</td>\n",
       "      <td>S</td>\n",
       "    </tr>\n",
       "    <tr>\n",
       "      <th>3</th>\n",
       "      <td>4</td>\n",
       "      <td>1</td>\n",
       "      <td>1</td>\n",
       "      <td>Futrelle, Mrs. Jacques Heath (Lily May Peel)</td>\n",
       "      <td>female</td>\n",
       "      <td>35.0</td>\n",
       "      <td>1</td>\n",
       "      <td>0</td>\n",
       "      <td>113803</td>\n",
       "      <td>53.1000</td>\n",
       "      <td>C123</td>\n",
       "      <td>S</td>\n",
       "    </tr>\n",
       "    <tr>\n",
       "      <th>4</th>\n",
       "      <td>5</td>\n",
       "      <td>0</td>\n",
       "      <td>3</td>\n",
       "      <td>Allen, Mr. William Henry</td>\n",
       "      <td>male</td>\n",
       "      <td>35.0</td>\n",
       "      <td>0</td>\n",
       "      <td>0</td>\n",
       "      <td>373450</td>\n",
       "      <td>8.0500</td>\n",
       "      <td>NaN</td>\n",
       "      <td>S</td>\n",
       "    </tr>\n",
       "  </tbody>\n",
       "</table>\n",
       "</div>"
      ],
      "text/plain": [
       "   PassengerId  Survived  Pclass  \\\n",
       "0            1         0       3   \n",
       "1            2         1       1   \n",
       "2            3         1       3   \n",
       "3            4         1       1   \n",
       "4            5         0       3   \n",
       "\n",
       "                                                Name     Sex   Age  SibSp  \\\n",
       "0                            Braund, Mr. Owen Harris    male  22.0      1   \n",
       "1  Cumings, Mrs. John Bradley (Florence Briggs Th...  female  38.0      1   \n",
       "2                             Heikkinen, Miss. Laina  female  26.0      0   \n",
       "3       Futrelle, Mrs. Jacques Heath (Lily May Peel)  female  35.0      1   \n",
       "4                           Allen, Mr. William Henry    male  35.0      0   \n",
       "\n",
       "   Parch            Ticket     Fare Cabin Embarked  \n",
       "0      0         A/5 21171   7.2500   NaN        S  \n",
       "1      0          PC 17599  71.2833   C85        C  \n",
       "2      0  STON/O2. 3101282   7.9250   NaN        S  \n",
       "3      0            113803  53.1000  C123        S  \n",
       "4      0            373450   8.0500   NaN        S  "
      ]
     },
     "execution_count": 4,
     "metadata": {},
     "output_type": "execute_result"
    }
   ],
   "source": [
    "dataset.head()"
   ]
  },
  {
   "cell_type": "code",
   "execution_count": 5,
   "metadata": {
    "_cell_guid": "7ff63680-912e-4ab5-89ca-2ce37bc62163",
    "_uuid": "3e37804efe52b2cf6aa2ae82a0276ff85e687493"
   },
   "outputs": [
    {
     "name": "stdout",
     "output_type": "stream",
     "text": [
      "PassengerId      int64\n",
      "Survived         int64\n",
      "Pclass           int64\n",
      "Name            object\n",
      "Sex             object\n",
      "Age            float64\n",
      "SibSp            int64\n",
      "Parch            int64\n",
      "Ticket          object\n",
      "Fare           float64\n",
      "Cabin           object\n",
      "Embarked        object\n",
      "dtype: object\n"
     ]
    }
   ],
   "source": [
    "print(dataset.dtypes)\n"
   ]
  },
  {
   "cell_type": "code",
   "execution_count": 6,
   "metadata": {
    "_cell_guid": "f8071f85-fc9a-4c79-8299-ab3886d5e7cb",
    "_uuid": "f198194c6b854a04945340d6ee60a691cff53660"
   },
   "outputs": [
    {
     "name": "stdout",
     "output_type": "stream",
     "text": [
      "<class 'pandas.core.frame.DataFrame'>\n",
      "RangeIndex: 891 entries, 0 to 890\n",
      "Data columns (total 12 columns):\n",
      "PassengerId    891 non-null int64\n",
      "Survived       891 non-null int64\n",
      "Pclass         891 non-null int64\n",
      "Name           891 non-null object\n",
      "Sex            891 non-null object\n",
      "Age            714 non-null float64\n",
      "SibSp          891 non-null int64\n",
      "Parch          891 non-null int64\n",
      "Ticket         891 non-null object\n",
      "Fare           891 non-null float64\n",
      "Cabin          204 non-null object\n",
      "Embarked       889 non-null object\n",
      "dtypes: float64(2), int64(5), object(5)\n",
      "memory usage: 83.6+ KB\n",
      "None\n"
     ]
    }
   ],
   "source": [
    "print(dataset.info())\n"
   ]
  },
  {
   "cell_type": "code",
   "execution_count": 7,
   "metadata": {
    "_cell_guid": "9b2cd66d-30e1-4618-9336-a527f300d108",
    "_uuid": "954168f79ecc59315af9111afb0d5303fcf6e09f",
    "scrolled": true
   },
   "outputs": [
    {
     "name": "stdout",
     "output_type": "stream",
     "text": [
      "       PassengerId    Survived      Pclass         Age       SibSp  \\\n",
      "count   891.000000  891.000000  891.000000  714.000000  891.000000   \n",
      "mean    446.000000    0.383838    2.308642   29.699118    0.523008   \n",
      "std     257.353842    0.486592    0.836071   14.526497    1.102743   \n",
      "min       1.000000    0.000000    1.000000    0.420000    0.000000   \n",
      "25%     223.500000    0.000000    2.000000   20.125000    0.000000   \n",
      "50%     446.000000    0.000000    3.000000   28.000000    0.000000   \n",
      "75%     668.500000    1.000000    3.000000   38.000000    1.000000   \n",
      "max     891.000000    1.000000    3.000000   80.000000    8.000000   \n",
      "\n",
      "            Parch        Fare  \n",
      "count  891.000000  891.000000  \n",
      "mean     0.381594   32.204208  \n",
      "std      0.806057   49.693429  \n",
      "min      0.000000    0.000000  \n",
      "25%      0.000000    7.910400  \n",
      "50%      0.000000   14.454200  \n",
      "75%      0.000000   31.000000  \n",
      "max      6.000000  512.329200  \n"
     ]
    }
   ],
   "source": [
    "print(dataset.describe())\n"
   ]
  },
  {
   "cell_type": "code",
   "execution_count": 8,
   "metadata": {
    "_cell_guid": "e0ba01f8-7ab4-4b2f-a4fb-24b743b1c0f4",
    "_uuid": "aaf914b1dbe7e15a830629003022b51d955cc77d"
   },
   "outputs": [
    {
     "name": "stdout",
     "output_type": "stream",
     "text": [
      "0      male\n",
      "1    female\n",
      "2    female\n",
      "3    female\n",
      "4      male\n",
      "5      male\n",
      "6      male\n",
      "7      male\n",
      "8    female\n",
      "9    female\n",
      "Name: Sex, dtype: object\n"
     ]
    },
    {
     "data": {
      "image/png": "[encoded data removed]",
      "text/plain": [
       "<matplotlib.figure.Figure at 0x10743e7f0>"
      ]
     },
     "metadata": {},
     "output_type": "display_data"
    }
   ],
   "source": [
    "print (dataset['Sex'][0:10])\n",
    "Survived_m = dataset.Survived[dataset.Sex == 'male'].value_counts()\n",
    "Survived_f = dataset.Survived[dataset.Sex == 'female'].value_counts()\n",
    "\n",
    "df=pd.DataFrame({'male':Survived_m, 'female':Survived_f})\n",
    "df.plot(kind='bar', stacked=True)\n",
    "plt.title(\"survived by sex\")\n",
    "plt.xlabel(\"live\") \n",
    "plt.ylabel(\"count\")\n",
    "plt.show()\n"
   ]
  },
  {
   "cell_type": "code",
   "execution_count": 9,
   "metadata": {
    "_cell_guid": "bf138f07-6883-4cd6-a698-0e2cf045f269",
    "_uuid": "f53560f13bd71d7985c3978f4191115786832e41"
   },
   "outputs": [
    {
     "name": "stdout",
     "output_type": "stream",
     "text": [
      "0    22.0\n",
      "1    38.0\n",
      "2    26.0\n",
      "3    35.0\n",
      "4    35.0\n",
      "5     NaN\n",
      "6    54.0\n",
      "7     2.0\n",
      "8    27.0\n",
      "9    14.0\n",
      "Name: Age, dtype: float64\n"
     ]
    },
    {
     "data": {
      "image/png": "[encoded data removed]",
      "text/plain": [
       "<matplotlib.figure.Figure at 0x10743ebe0>"
      ]
     },
     "metadata": {},
     "output_type": "display_data"
    },
    {
     "name": "stdout",
     "output_type": "stream",
     "text": [
      "True\n"
     ]
    },
    {
     "data": {
      "image/png": "[encoded data removed]",
      "text/plain": [
       "<matplotlib.figure.Figure at 0x101b9bda0>"
      ]
     },
     "metadata": {},
     "output_type": "display_data"
    }
   ],
   "source": [
    "print (dataset['Age'][0:10])\n",
    "dataset['Age'].hist()  ##hist会把数据当成x，数量当成y\n",
    "plt.ylabel(\"Number\") \n",
    "plt.xlabel(\"Age\") \n",
    "plt.show()  \n",
    "\n",
    "print(dataset['Age'].isnull().values.any())\n",
    "plt.scatter(dataset['Survived'], dataset['Age'])\n",
    "plt.ylabel(\"Age\") \n",
    "plt.xlabel(\"Survived\") \n",
    "plt.title(\"Age Distribution\")\n",
    "plt.show()\n"
   ]
  },
  {
   "cell_type": "code",
   "execution_count": 10,
   "metadata": {
    "_cell_guid": "88710401-076b-4d2a-b5de-9414c50cf246",
    "_uuid": "7f458b29864b22f8aac24411ea3379989ad5a34f"
   },
   "outputs": [
    {
     "name": "stdout",
     "output_type": "stream",
     "text": [
      "0     7.2500\n",
      "1    71.2833\n",
      "2     7.9250\n",
      "3    53.1000\n",
      "4     8.0500\n",
      "5     8.4583\n",
      "6    51.8625\n",
      "7    21.0750\n",
      "8    11.1333\n",
      "9    30.0708\n",
      "Name: Fare, dtype: float64\n"
     ]
    },
    {
     "data": {
      "image/png": "[encoded data removed]",
      "text/plain": [
       "<matplotlib.figure.Figure at 0x1076ec240>"
      ]
     },
     "metadata": {},
     "output_type": "display_data"
    },
    {
     "name": "stdout",
     "output_type": "stream",
     "text": [
      "False\n"
     ]
    },
    {
     "data": {
      "image/png": "[encoded data removed]",
      "text/plain": [
       "<matplotlib.figure.Figure at 0x1076b3cc0>"
      ]
     },
     "metadata": {},
     "output_type": "display_data"
    }
   ],
   "source": [
    "print (dataset['Fare'][0:10])\n",
    "dataset['Fare'].hist()  \n",
    "plt.ylabel(\"Number\") \n",
    "plt.xlabel(\"Fare\") \n",
    "plt.show()  \n",
    "\n",
    "print(dataset['Fare'].isnull().values.any())\n",
    "plt.scatter(dataset['Survived'], dataset['Fare'])\n",
    "plt.ylabel(\"Fare\") \n",
    "plt.xlabel(\"Survived\") \n",
    "plt.title(\"Fare Distribution\")\n",
    "plt.show()\n"
   ]
  },
  {
   "cell_type": "code",
   "execution_count": 11,
   "metadata": {
    "_cell_guid": "8600c934-4942-44a2-bc5c-0f1e138a6efe",
    "_uuid": "09c02a68c358bc88cea06cea4bc794d80ae3971a"
   },
   "outputs": [
    {
     "name": "stdout",
     "output_type": "stream",
     "text": [
      "0    3\n",
      "1    1\n",
      "2    3\n",
      "3    1\n",
      "4    3\n",
      "5    3\n",
      "6    1\n",
      "7    3\n",
      "8    3\n",
      "9    2\n",
      "Name: Pclass, dtype: int64\n"
     ]
    },
    {
     "data": {
      "image/png": "[encoded data removed]",
      "text/plain": [
       "<matplotlib.figure.Figure at 0x1078f68d0>"
      ]
     },
     "metadata": {},
     "output_type": "display_data"
    },
    {
     "name": "stdout",
     "output_type": "stream",
     "text": [
      "False\n",
      "    p1  p2   p3\n",
      "0   80  97  372\n",
      "1  136  87  119\n"
     ]
    },
    {
     "data": {
      "image/png": "[encoded data removed]",
      "text/plain": [
       "<matplotlib.figure.Figure at 0x10743e8d0>"
      ]
     },
     "metadata": {},
     "output_type": "display_data"
    }
   ],
   "source": [
    "print (dataset['Pclass'][0:10])\n",
    "dataset['Pclass'].hist()  \n",
    "plt.show()  \n",
    "print(dataset['Pclass'].isnull().values.any())\n",
    "\n",
    "Survived_p1 = dataset.Survived[dataset['Pclass'] == 1].value_counts()\n",
    "Survived_p2 = dataset.Survived[dataset['Pclass'] == 2].value_counts()\n",
    "Survived_p3 = dataset.Survived[dataset['Pclass'] == 3].value_counts()\n",
    "\n",
    "df=pd.DataFrame({'p1':Survived_p1, 'p2':Survived_p2, 'p3':Survived_p3})\n",
    "print(df)\n",
    "df.plot(kind='bar', stacked=True)\n",
    "plt.title(\"survived by pclass\")\n",
    "plt.xlabel(\"pclass\") \n",
    "plt.ylabel(\"count\")\n",
    "plt.show()\n"
   ]
  },
  {
   "cell_type": "code",
   "execution_count": 12,
   "metadata": {
    "_cell_guid": "caf9486a-3aec-4d00-a246-112bdda3b9d1",
    "_uuid": "d46c7620026814af964cd94646b77e10c5dc32b2"
   },
   "outputs": [
    {
     "name": "stdout",
     "output_type": "stream",
     "text": [
      "0    S\n",
      "1    C\n",
      "2    S\n",
      "3    S\n",
      "4    S\n",
      "5    Q\n",
      "6    S\n",
      "7    S\n",
      "8    S\n",
      "9    C\n",
      "Name: Embarked, dtype: object\n",
      "0    427\n",
      "1    217\n",
      "Name: Survived, dtype: int64\n"
     ]
    },
    {
     "data": {
      "image/png": "[encoded data removed]",
      "text/plain": [
       "<matplotlib.figure.Figure at 0x1079decc0>"
      ]
     },
     "metadata": {},
     "output_type": "display_data"
    }
   ],
   "source": [
    "print (dataset['Embarked'][0:10])\n",
    "Survived_S = dataset.Survived[dataset['Embarked'] == 'S'].value_counts()\n",
    "Survived_C = dataset.Survived[dataset['Embarked'] == 'C'].value_counts()\n",
    "Survived_Q = dataset.Survived[dataset['Embarked'] == 'Q'].value_counts()\n",
    "\n",
    "print(Survived_S)\n",
    "df = pd.DataFrame({'S':Survived_S, 'C':Survived_C, 'Q':Survived_Q})\n",
    "df.plot(kind='bar', stacked=True)\n",
    "plt.title(\"survived by sex\")\n",
    "plt.xlabel(\"Embarked\") \n",
    "plt.ylabel(\"count\")\n",
    "plt.show()\n"
   ]
  },
  {
   "cell_type": "code",
   "execution_count": 13,
   "metadata": {
    "_cell_guid": "85b9e9b0-8cc6-45a5-866c-0370533a93a3",
    "_uuid": "f288b665010919e746d086f200887fb74d305b23"
   },
   "outputs": [
    {
     "name": "stdout",
     "output_type": "stream",
     "text": [
      "(891, 5)\n",
      "     Pclass     Sex   Age      Fare Embarked\n",
      "0         3    male  22.0    7.2500        S\n",
      "1         1  female  38.0   71.2833        C\n",
      "2         3  female  26.0    7.9250        S\n",
      "3         1  female  35.0   53.1000        S\n",
      "4         3    male  35.0    8.0500        S\n",
      "5         3    male   NaN    8.4583        Q\n",
      "6         1    male  54.0   51.8625        S\n",
      "7         3    male   2.0   21.0750        S\n",
      "8         3  female  27.0   11.1333        S\n",
      "9         2  female  14.0   30.0708        C\n",
      "10        3  female   4.0   16.7000        S\n",
      "11        1  female  58.0   26.5500        S\n",
      "12        3    male  20.0    8.0500        S\n",
      "13        3    male  39.0   31.2750        S\n",
      "14        3  female  14.0    7.8542        S\n",
      "15        2  female  55.0   16.0000        S\n",
      "16        3    male   2.0   29.1250        Q\n",
      "17        2    male   NaN   13.0000        S\n",
      "18        3  female  31.0   18.0000        S\n",
      "19        3  female   NaN    7.2250        C\n",
      "20        2    male  35.0   26.0000        S\n",
      "21        2    male  34.0   13.0000        S\n",
      "22        3  female  15.0    8.0292        Q\n",
      "23        1    male  28.0   35.5000        S\n",
      "24        3  female   8.0   21.0750        S\n",
      "25        3  female  38.0   31.3875        S\n",
      "26        3    male   NaN    7.2250        C\n",
      "27        1    male  19.0  263.0000        S\n",
      "28        3  female   NaN    7.8792        Q\n",
      "29        3    male   NaN    7.8958        S\n",
      "..      ...     ...   ...       ...      ...\n",
      "861       2    male  21.0   11.5000        S\n",
      "862       1  female  48.0   25.9292        S\n",
      "863       3  female   NaN   69.5500        S\n",
      "864       2    male  24.0   13.0000        S\n",
      "865       2  female  42.0   13.0000        S\n",
      "866       2  female  27.0   13.8583        C\n",
      "867       1    male  31.0   50.4958        S\n",
      "868       3    male   NaN    9.5000        S\n",
      "869       3    male   4.0   11.1333        S\n",
      "870       3    male  26.0    7.8958        S\n",
      "871       1  female  47.0   52.5542        S\n",
      "872       1    male  33.0    5.0000        S\n",
      "873       3    male  47.0    9.0000        S\n",
      "874       2  female  28.0   24.0000        C\n",
      "875       3  female  15.0    7.2250        C\n",
      "876       3    male  20.0    9.8458        S\n",
      "877       3    male  19.0    7.8958        S\n",
      "878       3    male   NaN    7.8958        S\n",
      "879       1  female  56.0   83.1583        C\n",
      "880       2  female  25.0   26.0000        S\n",
      "881       3    male  33.0    7.8958        S\n",
      "882       3  female  22.0   10.5167        S\n",
      "883       2    male  28.0   10.5000        S\n",
      "884       3    male  25.0    7.0500        S\n",
      "885       3  female  39.0   29.1250        Q\n",
      "886       2    male  27.0   13.0000        S\n",
      "887       1  female  19.0   30.0000        S\n",
      "888       3  female   NaN   23.4500        S\n",
      "889       1    male  26.0   30.0000        C\n",
      "890       3    male  32.0    7.7500        Q\n",
      "\n",
      "[891 rows x 5 columns]\n"
     ]
    }
   ],
   "source": [
    "label=dataset.loc[:,'Survived']\n",
    "data=dataset.loc[:,['Pclass', 'Sex', 'Age', 'Fare', 'Embarked']]\n",
    "testdat=testset.loc[:,['Pclass', 'Sex', 'Age', 'Fare', 'Embarked']]\n",
    "\n",
    "print(data.shape)\n",
    "print(data)"
   ]
  },
  {
   "cell_type": "code",
   "execution_count": 14,
   "metadata": {
    "_cell_guid": "735702af-c353-40b4-b86d-c208082208cb",
    "_uuid": "8b4cd344aeff3d3cdacce61477697ff1780896f9",
    "scrolled": true
   },
   "outputs": [
    {
     "name": "stdout",
     "output_type": "stream",
     "text": [
      "True\n",
      "False\n",
      "True\n",
      "     Pclass     Sex   Age      Fare Embarked\n",
      "0         3    male  22.0    7.2500        S\n",
      "1         1  female  38.0   71.2833        C\n",
      "2         3  female  26.0    7.9250        S\n",
      "3         1  female  35.0   53.1000        S\n",
      "4         3    male  35.0    8.0500        S\n",
      "5         3    male  28.0    8.4583        Q\n",
      "6         1    male  54.0   51.8625        S\n",
      "7         3    male   2.0   21.0750        S\n",
      "8         3  female  27.0   11.1333        S\n",
      "9         2  female  14.0   30.0708        C\n",
      "10        3  female   4.0   16.7000        S\n",
      "11        1  female  58.0   26.5500        S\n",
      "12        3    male  20.0    8.0500        S\n",
      "13        3    male  39.0   31.2750        S\n",
      "14        3  female  14.0    7.8542        S\n",
      "15        2  female  55.0   16.0000        S\n",
      "16        3    male   2.0   29.1250        Q\n",
      "17        2    male  28.0   13.0000        S\n",
      "18        3  female  31.0   18.0000        S\n",
      "19        3  female  28.0    7.2250        C\n",
      "20        2    male  35.0   26.0000        S\n",
      "21        2    male  34.0   13.0000        S\n",
      "22        3  female  15.0    8.0292        Q\n",
      "23        1    male  28.0   35.5000        S\n",
      "24        3  female   8.0   21.0750        S\n",
      "25        3  female  38.0   31.3875        S\n",
      "26        3    male  28.0    7.2250        C\n",
      "27        1    male  19.0  263.0000        S\n",
      "28        3  female  28.0    7.8792        Q\n",
      "29        3    male  28.0    7.8958        S\n",
      "..      ...     ...   ...       ...      ...\n",
      "861       2    male  21.0   11.5000        S\n",
      "862       1  female  48.0   25.9292        S\n",
      "863       3  female  28.0   69.5500        S\n",
      "864       2    male  24.0   13.0000        S\n",
      "865       2  female  42.0   13.0000        S\n",
      "866       2  female  27.0   13.8583        C\n",
      "867       1    male  31.0   50.4958        S\n",
      "868       3    male  28.0    9.5000        S\n",
      "869       3    male   4.0   11.1333        S\n",
      "870       3    male  26.0    7.8958        S\n",
      "871       1  female  47.0   52.5542        S\n",
      "872       1    male  33.0    5.0000        S\n",
      "873       3    male  47.0    9.0000        S\n",
      "874       2  female  28.0   24.0000        C\n",
      "875       3  female  15.0    7.2250        C\n",
      "876       3    male  20.0    9.8458        S\n",
      "877       3    male  19.0    7.8958        S\n",
      "878       3    male  28.0    7.8958        S\n",
      "879       1  female  56.0   83.1583        C\n",
      "880       2  female  25.0   26.0000        S\n",
      "881       3    male  33.0    7.8958        S\n",
      "882       3  female  22.0   10.5167        S\n",
      "883       2    male  28.0   10.5000        S\n",
      "884       3    male  25.0    7.0500        S\n",
      "885       3  female  39.0   29.1250        Q\n",
      "886       2    male  27.0   13.0000        S\n",
      "887       1  female  19.0   30.0000        S\n",
      "888       3  female  28.0   23.4500        S\n",
      "889       1    male  26.0   30.0000        C\n",
      "890       3    male  32.0    7.7500        Q\n",
      "\n",
      "[891 rows x 5 columns]\n"
     ]
    }
   ],
   "source": [
    "def fill_NAN(data):  \n",
    "    data_copy = data.copy(deep=True)\n",
    "    data_copy.loc[:,'Age'] = data_copy['Age'].fillna(data_copy['Age'].median())\n",
    "    data_copy.loc[:,'Fare'] = data_copy['Fare'].fillna(data_copy['Fare'].median())\n",
    "    data_copy.loc[:,'Pclass'] = data_copy['Pclass'].fillna(data_copy['Pclass'].median())\n",
    "    data_copy.loc[:,'Sex'] = data_copy['Sex'].fillna('female')\n",
    "    data_copy.loc[:,'Embarked'] = data_copy['Embarked'].fillna('S')\n",
    "    return data_copy\n",
    "\n",
    "\n",
    "data_no_nan = fill_NAN(data)\n",
    "testdat_no_nan = fill_NAN(testdat)\n",
    "\n",
    "print(testdat.isnull().values.any())    \n",
    "print(testdat_no_nan.isnull().values.any())\n",
    "print(data.isnull().values.any())    \n",
    "\n",
    "print(data_no_nan)\n",
    "\n",
    "# print(data)"
   ]
  },
  {
   "cell_type": "code",
   "execution_count": 15,
   "metadata": {
    "_cell_guid": "d1164c6b-0594-4ad9-9a5a-f5411a20eda5",
    "_uuid": "51ba4bc3606b38e8044de8855895306954845c8e"
   },
   "outputs": [
    {
     "name": "stdout",
     "output_type": "stream",
     "text": [
      "False\n",
      "     Pclass Sex   Age      Fare Embarked\n",
      "0         3   1  34.5    7.8292        Q\n",
      "1         3   0  47.0    7.0000        S\n",
      "2         2   1  62.0    9.6875        Q\n",
      "3         3   1  27.0    8.6625        S\n",
      "4         3   0  22.0   12.2875        S\n",
      "5         3   1  14.0    9.2250        S\n",
      "6         3   0  30.0    7.6292        Q\n",
      "7         2   1  26.0   29.0000        S\n",
      "8         3   0  18.0    7.2292        C\n",
      "9         3   1  21.0   24.1500        S\n",
      "10        3   1  27.0    7.8958        S\n",
      "11        1   1  46.0   26.0000        S\n",
      "12        1   0  23.0   82.2667        S\n",
      "13        2   1  63.0   26.0000        S\n",
      "14        1   0  47.0   61.1750        S\n",
      "15        2   0  24.0   27.7208        C\n",
      "16        2   1  35.0   12.3500        Q\n",
      "17        3   1  21.0    7.2250        C\n",
      "18        3   0  27.0    7.9250        S\n",
      "19        3   0  45.0    7.2250        C\n",
      "20        1   1  55.0   59.4000        C\n",
      "21        3   1   9.0    3.1708        S\n",
      "22        1   0  27.0   31.6833        S\n",
      "23        1   1  21.0   61.3792        C\n",
      "24        1   0  48.0  262.3750        C\n",
      "25        3   1  50.0   14.5000        S\n",
      "26        1   0  22.0   61.9792        C\n",
      "27        3   1  22.5    7.2250        C\n",
      "28        1   1  41.0   30.5000        S\n",
      "29        3   1  27.0   21.6792        C\n",
      "..      ...  ..   ...       ...      ...\n",
      "388       3   1  21.0    7.7500        Q\n",
      "389       3   1   6.0   21.0750        S\n",
      "390       1   1  23.0   93.5000        S\n",
      "391       1   0  51.0   39.4000        S\n",
      "392       3   1  13.0   20.2500        S\n",
      "393       2   1  47.0   10.5000        S\n",
      "394       3   1  29.0   22.0250        S\n",
      "395       1   0  18.0   60.0000        S\n",
      "396       3   1  24.0    7.2500        Q\n",
      "397       1   0  48.0   79.2000        C\n",
      "398       3   1  22.0    7.7750        S\n",
      "399       3   1  31.0    7.7333        Q\n",
      "400       1   0  30.0  164.8667        S\n",
      "401       2   1  38.0   21.0000        S\n",
      "402       1   0  22.0   59.4000        C\n",
      "403       1   1  17.0   47.1000        S\n",
      "404       1   1  43.0   27.7208        C\n",
      "405       2   1  20.0   13.8625        C\n",
      "406       2   1  23.0   10.5000        S\n",
      "407       1   1  50.0  211.5000        C\n",
      "408       3   0  27.0    7.7208        Q\n",
      "409       3   0   3.0   13.7750        S\n",
      "410       3   0  27.0    7.7500        Q\n",
      "411       1   0  37.0   90.0000        Q\n",
      "412       3   0  28.0    7.7750        S\n",
      "413       3   1  27.0    8.0500        S\n",
      "414       1   0  39.0  108.9000        C\n",
      "415       3   1  38.5    7.2500        S\n",
      "416       3   1  27.0    8.0500        S\n",
      "417       3   1  27.0   22.3583        C\n",
      "\n",
      "[418 rows x 5 columns]\n"
     ]
    }
   ],
   "source": [
    "print(data_no_nan['Sex'].isnull().values.any())\n",
    "\n",
    "def transfer_sex(data):\n",
    "    data_copy = data.copy(deep=True)\n",
    "    data_copy.loc[data_copy['Sex'] == 'female', 'Sex'] = 0\n",
    "    data_copy.loc[data_copy['Sex'] == 'male', 'Sex'] = 1\n",
    "    return data_copy\n",
    "\n",
    "data_after_sex = transfer_sex(data_no_nan)\n",
    "testdat_after_sex = transfer_sex(testdat_no_nan)\n",
    "print(testdat_after_sex)\n",
    "    "
   ]
  },
  {
   "cell_type": "code",
   "execution_count": 16,
   "metadata": {
    "_cell_guid": "fb6de968-5009-4842-bdc9-f73d00281e9d",
    "_uuid": "fe584dcb13cf8aca22d0bee04fb188221606caa6"
   },
   "outputs": [
    {
     "name": "stdout",
     "output_type": "stream",
     "text": [
      "     Pclass Sex   Age      Fare Embarked\n",
      "0         3   1  34.5    7.8292        2\n",
      "1         3   0  47.0    7.0000        0\n",
      "2         2   1  62.0    9.6875        2\n",
      "3         3   1  27.0    8.6625        0\n",
      "4         3   0  22.0   12.2875        0\n",
      "5         3   1  14.0    9.2250        0\n",
      "6         3   0  30.0    7.6292        2\n",
      "7         2   1  26.0   29.0000        0\n",
      "8         3   0  18.0    7.2292        1\n",
      "9         3   1  21.0   24.1500        0\n",
      "10        3   1  27.0    7.8958        0\n",
      "11        1   1  46.0   26.0000        0\n",
      "12        1   0  23.0   82.2667        0\n",
      "13        2   1  63.0   26.0000        0\n",
      "14        1   0  47.0   61.1750        0\n",
      "15        2   0  24.0   27.7208        1\n",
      "16        2   1  35.0   12.3500        2\n",
      "17        3   1  21.0    7.2250        1\n",
      "18        3   0  27.0    7.9250        0\n",
      "19        3   0  45.0    7.2250        1\n",
      "20        1   1  55.0   59.4000        1\n",
      "21        3   1   9.0    3.1708        0\n",
      "22        1   0  27.0   31.6833        0\n",
      "23        1   1  21.0   61.3792        1\n",
      "24        1   0  48.0  262.3750        1\n",
      "25        3   1  50.0   14.5000        0\n",
      "26        1   0  22.0   61.9792        1\n",
      "27        3   1  22.5    7.2250        1\n",
      "28        1   1  41.0   30.5000        0\n",
      "29        3   1  27.0   21.6792        1\n",
      "..      ...  ..   ...       ...      ...\n",
      "388       3   1  21.0    7.7500        2\n",
      "389       3   1   6.0   21.0750        0\n",
      "390       1   1  23.0   93.5000        0\n",
      "391       1   0  51.0   39.4000        0\n",
      "392       3   1  13.0   20.2500        0\n",
      "393       2   1  47.0   10.5000        0\n",
      "394       3   1  29.0   22.0250        0\n",
      "395       1   0  18.0   60.0000        0\n",
      "396       3   1  24.0    7.2500        2\n",
      "397       1   0  48.0   79.2000        1\n",
      "398       3   1  22.0    7.7750        0\n",
      "399       3   1  31.0    7.7333        2\n",
      "400       1   0  30.0  164.8667        0\n",
      "401       2   1  38.0   21.0000        0\n",
      "402       1   0  22.0   59.4000        1\n",
      "403       1   1  17.0   47.1000        0\n",
      "404       1   1  43.0   27.7208        1\n",
      "405       2   1  20.0   13.8625        1\n",
      "406       2   1  23.0   10.5000        0\n",
      "407       1   1  50.0  211.5000        1\n",
      "408       3   0  27.0    7.7208        2\n",
      "409       3   0   3.0   13.7750        0\n",
      "410       3   0  27.0    7.7500        2\n",
      "411       1   0  37.0   90.0000        2\n",
      "412       3   0  28.0    7.7750        0\n",
      "413       3   1  27.0    8.0500        0\n",
      "414       1   0  39.0  108.9000        1\n",
      "415       3   1  38.5    7.2500        0\n",
      "416       3   1  27.0    8.0500        0\n",
      "417       3   1  27.0   22.3583        1\n",
      "\n",
      "[418 rows x 5 columns]\n"
     ]
    }
   ],
   "source": [
    "\n",
    "def transfer_embark(data):\n",
    "    data_copy = data.copy(deep=True)\n",
    "    data_copy.loc[data_copy['Embarked'] == 'S', 'Embarked'] = 0\n",
    "    data_copy.loc[data_copy['Embarked'] == 'C', 'Embarked'] = 1\n",
    "    data_copy.loc[data_copy['Embarked'] == 'Q', 'Embarked'] = 2\n",
    "    return data_copy\n",
    "\n",
    "data_after_embarked = transfer_embark(data_after_sex)\n",
    "testdat_after_embarked = transfer_embark(testdat_after_sex)\n",
    "print(testdat_after_embarked)"
   ]
  },
  {
   "cell_type": "code",
   "execution_count": 17,
   "metadata": {
    "_cell_guid": "ca512835-f047-0dcf-3e77-ae039d50d118",
    "_uuid": "1ef2920f2b940140ef91e4b3cb785d8d52544562"
   },
   "outputs": [
    {
     "name": "stderr",
     "output_type": "stream",
     "text": [
      "/anaconda3/lib/python3.6/site-packages/sklearn/model_selection/_split.py:2010: FutureWarning: From version 0.21, test_size will always complement train_size unless both are specified.\n",
      "  FutureWarning)\n"
     ]
    }
   ],
   "source": [
    "\n",
    "\n",
    "data_now = data_after_embarked\n",
    "testdat_now = testdat_after_embarked\n",
    "from sklearn.model_selection import train_test_split\n",
    "\n",
    "\n",
    "X_train,X_test,y_train,y_test=train_test_split(data_now,label,random_state=0,train_size=0.8)\n",
    "\n"
   ]
  },
  {
   "cell_type": "code",
   "execution_count": 18,
   "metadata": {
    "_cell_guid": "ae4c99cd-704b-480b-a93c-58e06793dfb4",
    "_uuid": "65f9c0c405812d8f652c827dd7c77de942200570"
   },
   "outputs": [
    {
     "name": "stdout",
     "output_type": "stream",
     "text": [
      "(712, 5) (179, 5) (712,) (179,)\n"
     ]
    }
   ],
   "source": [
    "print(X_train.shape, X_test.shape, y_train.shape, y_test.shape)"
   ]
  },
  {
   "cell_type": "code",
   "execution_count": 19,
   "metadata": {},
   "outputs": [
    {
     "data": {
      "text/html": [
       "<div>\n",
       "<style>\n",
       "    .dataframe thead tr:only-child th {\n",
       "        text-align: right;\n",
       "    }\n",
       "\n",
       "    .dataframe thead th {\n",
       "        text-align: left;\n",
       "    }\n",
       "\n",
       "    .dataframe tbody tr th {\n",
       "        vertical-align: top;\n",
       "    }\n",
       "</style>\n",
       "<table border=\"1\" class=\"dataframe\">\n",
       "  <thead>\n",
       "    <tr style=\"text-align: right;\">\n",
       "      <th></th>\n",
       "      <th>Pclass</th>\n",
       "      <th>Sex</th>\n",
       "      <th>Age</th>\n",
       "      <th>Fare</th>\n",
       "      <th>Embarked</th>\n",
       "    </tr>\n",
       "  </thead>\n",
       "  <tbody>\n",
       "    <tr>\n",
       "      <th>140</th>\n",
       "      <td>3</td>\n",
       "      <td>0</td>\n",
       "      <td>28.0</td>\n",
       "      <td>15.2458</td>\n",
       "      <td>1</td>\n",
       "    </tr>\n",
       "    <tr>\n",
       "      <th>439</th>\n",
       "      <td>2</td>\n",
       "      <td>1</td>\n",
       "      <td>31.0</td>\n",
       "      <td>10.5000</td>\n",
       "      <td>0</td>\n",
       "    </tr>\n",
       "    <tr>\n",
       "      <th>817</th>\n",
       "      <td>2</td>\n",
       "      <td>1</td>\n",
       "      <td>31.0</td>\n",
       "      <td>37.0042</td>\n",
       "      <td>1</td>\n",
       "    </tr>\n",
       "    <tr>\n",
       "      <th>378</th>\n",
       "      <td>3</td>\n",
       "      <td>1</td>\n",
       "      <td>20.0</td>\n",
       "      <td>4.0125</td>\n",
       "      <td>1</td>\n",
       "    </tr>\n",
       "    <tr>\n",
       "      <th>491</th>\n",
       "      <td>3</td>\n",
       "      <td>1</td>\n",
       "      <td>21.0</td>\n",
       "      <td>7.2500</td>\n",
       "      <td>0</td>\n",
       "    </tr>\n",
       "  </tbody>\n",
       "</table>\n",
       "</div>"
      ],
      "text/plain": [
       "     Pclass Sex   Age     Fare Embarked\n",
       "140       3   0  28.0  15.2458        1\n",
       "439       2   1  31.0  10.5000        0\n",
       "817       2   1  31.0  37.0042        1\n",
       "378       3   1  20.0   4.0125        1\n",
       "491       3   1  21.0   7.2500        0"
      ]
     },
     "execution_count": 19,
     "metadata": {},
     "output_type": "execute_result"
    }
   ],
   "source": [
    "X_test.head()\n",
    "X_train.head()\n"
   ]
  },
  {
   "cell_type": "code",
   "execution_count": 20,
   "metadata": {},
   "outputs": [
    {
     "data": {
      "text/plain": [
       "array([[3, 0, 28.0, 15.2458, 1],\n",
       "       [2, 1, 31.0, 10.5, 0],\n",
       "       [2, 1, 31.0, 37.0042, 1],\n",
       "       ...,\n",
       "       [3, 1, 28.0, 7.7333, 2],\n",
       "       [3, 0, 36.0, 17.4, 0],\n",
       "       [2, 1, 60.0, 39.0, 0]], dtype=object)"
      ]
     },
     "execution_count": 20,
     "metadata": {},
     "output_type": "execute_result"
    }
   ],
   "source": [
    "X_test.values\n",
    "X_train.values"
   ]
  },
  {
   "cell_type": "code",
   "execution_count": 21,
   "metadata": {},
   "outputs": [
    {
     "name": "stdout",
     "output_type": "stream",
     "text": [
      "0.6145251396648045\n",
      "0.6815642458100558\n",
      "0.6815642458100558\n",
      "0.7094972067039106\n",
      "0.7430167597765364\n",
      "0.7318435754189944\n",
      "0.7318435754189944\n",
      "0.7486033519553073\n",
      "0.7486033519553073\n",
      "0.7318435754189944\n",
      "0.7374301675977654\n",
      "0.7318435754189944\n",
      "0.7262569832402235\n",
      "0.7262569832402235\n",
      "0.7374301675977654\n",
      "0.7318435754189944\n",
      "0.7374301675977654\n",
      "0.7374301675977654\n",
      "0.7541899441340782\n",
      "0.7374301675977654\n",
      "0.7486033519553073\n",
      "0.7597765363128491\n",
      "0.7653631284916201\n",
      "0.7541899441340782\n",
      "0.770949720670391\n",
      "0.770949720670391\n",
      "0.776536312849162\n",
      "0.7541899441340782\n",
      "0.7653631284916201\n",
      "0.7597765363128491\n",
      "0.7653631284916201\n",
      "0.7541899441340782\n",
      "0.776536312849162\n",
      "0.7653631284916201\n",
      "0.7541899441340782\n",
      "0.7653631284916201\n",
      "0.7597765363128491\n",
      "0.7374301675977654\n",
      "0.7597765363128491\n",
      "0.7430167597765364\n",
      "0.7430167597765364\n",
      "0.7486033519553073\n",
      "0.7374301675977654\n",
      "0.7374301675977654\n",
      "0.7374301675977654\n",
      "0.7318435754189944\n",
      "0.7374301675977654\n",
      "0.7486033519553073\n",
      "0.7374301675977654\n",
      "0.7486033519553073\n",
      "0.7318435754189944\n",
      "0.7318435754189944\n",
      "0.7318435754189944\n",
      "0.7262569832402235\n",
      "0.7262569832402235\n",
      "0.7206703910614525\n",
      "0.7206703910614525\n",
      "0.7150837988826816\n",
      "0.7262569832402235\n",
      "0.7206703910614525\n",
      "0.7206703910614525\n",
      "0.7206703910614525\n",
      "0.7206703910614525\n",
      "0.7206703910614525\n",
      "0.7206703910614525\n",
      "0.7206703910614525\n",
      "0.7262569832402235\n",
      "0.7150837988826816\n",
      "0.7150837988826816\n",
      "0.7094972067039106\n",
      "0.7206703910614525\n",
      "0.7150837988826816\n",
      "0.7150837988826816\n",
      "0.7150837988826816\n",
      "0.7094972067039106\n",
      "0.7094972067039106\n",
      "0.7094972067039106\n",
      "0.7150837988826816\n",
      "0.7094972067039106\n",
      "0.7094972067039106\n",
      "0.7150837988826816\n",
      "0.7094972067039106\n",
      "0.7094972067039106\n",
      "0.7039106145251397\n",
      "0.7206703910614525\n",
      "0.7150837988826816\n",
      "0.7206703910614525\n",
      "0.7150837988826816\n",
      "0.7206703910614525\n",
      "0.7150837988826816\n",
      "0.7150837988826816\n",
      "0.7094972067039106\n",
      "0.7206703910614525\n",
      "0.7094972067039106\n",
      "0.7150837988826816\n",
      "0.7039106145251397\n",
      "0.7094972067039106\n",
      "0.7094972067039106\n",
      "0.7206703910614525\n",
      "0.7150837988826816\n"
     ]
    }
   ],
   "source": [
    "from sklearn.metrics import accuracy_score,classification_report,confusion_matrix\n",
    "class knn():\n",
    "    \n",
    "    def __init__(self):\n",
    "        pass\n",
    "    \n",
    "    def fit(self, x, y):\n",
    "        self.X_train = x\n",
    "        self.y_train = y\n",
    "        \n",
    "        \n",
    "    def predict(self, X, k = 3):\n",
    "        dataSetSize = self.X_train.shape[0]\n",
    "\n",
    "        \n",
    "        testMat = np.tile(X, (dataSetSize, 1))\n",
    "  \n",
    "        diffMat = testMat - self.X_train\n",
    "        sqDiffMat = diffMat ** 2\n",
    "        sumDiffMat = sqDiffMat.sum(axis = 1)\n",
    "        distance = sumDiffMat ** 0.5\n",
    "        sortedDistance = distance.argsort()\n",
    "        \n",
    "        #print(len(sortedDistance),len(y_train))\n",
    "              \n",
    "        classCount = {}\n",
    "        for i in range(k):\n",
    "            label = self.y_train[sortedDistance[i]]\n",
    "            classCount[label] = classCount.get(label, 0) + 1\n",
    "            \n",
    "        max = 0\n",
    "        ans = 0\n",
    "        for k,v in classCount.items():\n",
    "            if (v > max):\n",
    "                ans = k\n",
    "                max = v\n",
    "                \n",
    "        return ans\n",
    "        \n",
    "        \n",
    "classifier = knn()\n",
    "classifier.fit(X_train.values, y_train.values)\n",
    "prediction = np.zeros(X_test.shape[0])\n",
    "for k in range(100):\n",
    "    for i in range(X_test.shape[0]):\n",
    "        pred = classifier.predict(X_test.values[i], k)\n",
    "        prediction[i] = pred\n",
    "    print(accuracy_score(y_test,prediction))"
   ]
  },
  {
   "cell_type": "code",
   "execution_count": null,
   "metadata": {
    "collapsed": true
   },
   "outputs": [],
   "source": []
  }
 ],
 "metadata": {
  "_change_revision": 0,
  "_is_fork": false,
  "kernelspec": {
   "display_name": "Python 3",
   "language": "python",
   "name": "python3"
  },
  "language_info": {
   "codemirror_mode": {
    "name": "ipython",
    "version": 3
   },
   "file_extension": ".py",
   "mimetype": "text/x-python",
   "name": "python",
   "nbconvert_exporter": "python",
   "pygments_lexer": "ipython3",
   "version": "3.6.2"
  }
 },
 "nbformat": 4,
 "nbformat_minor": 1
}
