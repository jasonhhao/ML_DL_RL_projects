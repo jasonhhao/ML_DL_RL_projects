{
 "cells": [
  {
   "cell_type": "markdown",
   "metadata": {
    "_cell_guid": "e1ba1bf7-41cd-4315-afd9-33f2a0f679df",
    "_uuid": "094681945da4c855e0ce3320fd3248eed58f0344"
   },
   "source": [
    "# handwritting Logistic Regression"
   ]
  },
  {
   "cell_type": "code",
   "execution_count": 1,
   "metadata": {
    "_cell_guid": "80f2a8a2-dcaa-47c2-ae7e-b945ad3e6fd3",
    "_uuid": "e7040a260ff505d298dfab5c67f98ad044675743",
    "collapsed": true
   },
   "outputs": [],
   "source": [
    "import numpy as np\n",
    "import pandas as pd\n",
    "from patsy import dmatrices\n",
    "from sklearn.linear_model import LogisticRegression\n",
    "from sklearn import metrics\n",
    "import matplotlib.pyplot as plt"
   ]
  },
  {
   "cell_type": "code",
   "execution_count": 2,
   "metadata": {
    "_cell_guid": "ca59a825-8201-4eb2-9c39-b68644c3f833",
    "_uuid": "4e670cd0bd8dd7cc34d85452ba4cd2ac210b596b",
    "collapsed": true
   },
   "outputs": [],
   "source": [
    "data = pd.read_csv(\"../input/HR_comma_sep.csv\")"
   ]
  },
  {
   "cell_type": "code",
   "execution_count": 3,
   "metadata": {
    "_cell_guid": "48629780-d4c8-4c1f-b043-245f991b202e",
    "_uuid": "38d7fe3d3025287fa618520d69ff93b67c3e2697",
    "collapsed": true
   },
   "outputs": [],
   "source": [
    "data.left = data.left.astype(int)"
   ]
  },
  {
   "cell_type": "code",
   "execution_count": 4,
   "metadata": {
    "_cell_guid": "63a18f99-84b1-4f9d-b889-9c805d0cd2be",
    "_uuid": "3f5ed63b4e4c53cc75c24550d499239b75682dad",
    "collapsed": true
   },
   "outputs": [],
   "source": [
    "y, X = dmatrices('left~satisfaction_level+last_evaluation+number_project+average_montly_hours+time_spend_company+Work_accident+promotion_last_5years+C(sales)+C(salary)', data, return_type='dataframe')\n",
    "X = np.asmatrix(X)\n",
    "y = np.ravel(y)"
   ]
  },
  {
   "cell_type": "code",
   "execution_count": 5,
   "metadata": {
    "_cell_guid": "373ea00d-d1a7-4274-9f23-d7ce7312eac3",
    "_uuid": "f78d0d941decb5261426eb55156803bde9df4443",
    "collapsed": true
   },
   "outputs": [],
   "source": [
    "for i in range(1, X.shape[1]):\n",
    "    xmin = X[:,i].min()\n",
    "    xmax = X[:,i].max()\n",
    "    X[:, i] = (X[:, i] - xmin) / (xmax - xmin)"
   ]
  },
  {
   "cell_type": "code",
   "execution_count": 7,
   "metadata": {
    "_cell_guid": "89e9e0c3-0751-4114-aecc-8a97f01cf7e5",
    "_uuid": "63f2efb967d5054655af10a135f5c603871af5e6",
    "collapsed": true
   },
   "outputs": [
    {
     "name": "stdout",
     "output_type": "stream",
     "text": [
      "T=0 loss=1.120382327806672 error=0.5037002466831122\n",
      "T=5 loss=0.5828466379521424 error=0.25915061004066936\n",
      "T=10 loss=0.5325442249901016 error=0.24934995666377757\n",
      "T=15 loss=0.5080775776348322 error=0.23921594772984867\n",
      "T=20 loss=0.49247028296594897 error=0.23468231215414362\n",
      "T=25 loss=0.48121138342028447 error=0.22914860990732716\n",
      "T=30 loss=0.47265066010688817 error=0.22268151210080672\n",
      "T=35 loss=0.46593818779040674 error=0.22194812987532503\n",
      "T=40 loss=0.46056169132186364 error=0.22081472098139876\n",
      "T=45 loss=0.45618692716315645 error=0.2206813787585839\n",
      "T=50 loss=0.4525836743850192 error=0.22094806320421362\n",
      "T=55 loss=0.44958659459972605 error=0.22028135209013935\n",
      "T=60 loss=0.44707300795228927 error=0.21974798319887992\n",
      "T=65 loss=0.44494957424699816 error=0.2199479965331022\n",
      "T=70 loss=0.44314391303568806 error=0.21768117874524967\n",
      "T=75 loss=0.4415990855373981 error=0.2162810854056937\n",
      "T=80 loss=0.4402698065062127 error=0.21561437429161945\n",
      "T=85 loss=0.43911974760495753 error=0.21341422761517434\n",
      "T=90 loss=0.43811955949162507 error=0.21221414760984067\n",
      "T=95 loss=0.4372453866557771 error=0.2116141076071738\n",
      "T=100 loss=0.4364777323810947 error=0.21114740982732183\n",
      "T=105 loss=0.4358005799564973 error=0.20968064537635842\n",
      "T=110 loss=0.43520070579529435 error=0.209147276485099\n",
      "T=115 loss=0.4346671387537026 error=0.20874724981665443\n",
      "T=120 loss=0.434190732203912 error=0.20861390759383958\n",
      "T=125 loss=0.4337638238294708 error=0.20921394759650644\n",
      "T=130 loss=0.4333799640958729 error=0.20954730315354356\n",
      "T=135 loss=0.4330336987348815 error=0.209147276485099\n",
      "T=140 loss=0.43272039386761074 error=0.2079471964797653\n",
      "T=145 loss=0.4324360948926899 error=0.20721381425428362\n",
      "T=150 loss=0.4321774121909611 error=0.20661377425161678\n",
      "T=155 loss=0.43194142818944214 error=0.20708047203146876\n",
      "T=160 loss=0.431725621488315 error=0.20654710314020935\n",
      "T=165 loss=0.431527804661464 error=0.2058803920261351\n",
      "T=170 loss=0.4313460730501656 error=0.20574704980332023\n",
      "T=175 loss=0.43117876242585657 error=0.20581372091472766\n",
      "T=180 loss=0.43102441383417106 error=0.20581372091472766\n",
      "T=185 loss=0.4308817442758729 error=0.2059470631375425\n",
      "T=190 loss=0.4307496221505153 error=0.2058803920261351\n",
      "T=195 loss=0.4306270466020104 error=0.20581372091472766\n",
      "T=200 loss=0.4305131300740459 error=0.2059470631375425\n",
      "T=205 loss=0.4304070835168476 error=0.2059470631375425\n",
      "T=210 loss=0.4303082037932474 error=0.20634708980598707\n",
      "T=215 loss=0.4302158629164625 error=0.20628041869457964\n",
      "T=220 loss=0.43012949881983736 error=0.2064137609173945\n",
      "T=225 loss=0.43004860741292505 error=0.20648043202880192\n",
      "T=230 loss=0.429972735722023 error=0.20661377425161678\n",
      "T=235 loss=0.42990147594840644 error=0.2066804453630242\n",
      "T=240 loss=0.42983446030612804 error=0.2064137609173945\n",
      "T=245 loss=0.42977135652438564 error=0.20661377425161678\n",
      "T=250 loss=0.4297118639183632 error=0.20681378758583904\n",
      "T=255 loss=0.4296557099480685 error=0.20661377425161678\n",
      "T=260 loss=0.4296026471973283 error=0.20688045869724647\n",
      "T=265 loss=0.429552450715576 error=0.20708047203146876\n",
      "T=270 loss=0.4295049156740341 error=0.20681378758583904\n",
      "T=275 loss=0.4294598552947834 error=0.20701380092006133\n",
      "T=280 loss=0.42941709901752223 error=0.20701380092006133\n",
      "T=285 loss=0.42937649087387403 error=0.20701380092006133\n",
      "T=290 loss=0.42933788804311995 error=0.20674711647443164\n",
      "T=295 loss=0.4293011595671772 error=0.20688045869724647\n",
      "T=300 loss=0.42926618520539034 error=0.20681378758583904\n",
      "T=305 loss=0.4292328544124618 error=0.20648043202880192\n",
      "T=310 loss=0.4292010654249709 error=0.20661377425161678\n",
      "T=315 loss=0.4291707244438574 error=0.2066804453630242\n",
      "T=320 loss=0.4291417449017798 error=0.20648043202880192\n",
      "T=325 loss=0.42911404680581783 error=0.2062137475831722\n",
      "T=330 loss=0.4290875561469113 error=0.20628041869457964\n",
      "T=335 loss=0.429062204368766 error=0.2062137475831722\n",
      "T=340 loss=0.42903792788961487 error=0.20601373424894992\n",
      "T=345 loss=0.42901466767108787 error=0.20601373424894992\n",
      "T=350 loss=0.428992368829207 error=0.20614707647176478\n",
      "T=355 loss=0.4289709802829083 error=0.20614707647176478\n",
      "T=360 loss=0.4289504544362211 error=0.2062137475831722\n",
      "T=365 loss=0.4289307468905433 error=0.20634708980598707\n",
      "T=370 loss=0.4289118161839152 error=0.20661377425161678\n",
      "T=375 loss=0.4288936235544948 error=0.20674711647443164\n",
      "T=380 loss=0.42887613272583336 error=0.20674711647443164\n",
      "T=385 loss=0.428859309711667 error=0.20674711647443164\n",
      "T=390 loss=0.4288431226383534 error=0.20681378758583904\n",
      "T=395 loss=0.42882754158316055 error=0.20688045869724647\n",
      "T=400 loss=0.4288125384268499 error=0.20681378758583904\n",
      "T=405 loss=0.42879808671919034 error=0.2069471298086539\n",
      "T=410 loss=0.4287841615561058 error=0.20708047203146876\n",
      "T=415 loss=0.4287707394673842 error=0.20701380092006133\n",
      "T=420 loss=0.4287577983139289 error=0.20701380092006133\n",
      "T=425 loss=0.4287453171936224 error=0.20701380092006133\n",
      "T=430 loss=0.42873327635505254 error=0.20701380092006133\n",
      "T=435 loss=0.428721657118338 error=0.20701380092006133\n",
      "T=440 loss=0.42871044180237367 error=0.20701380092006133\n",
      "T=445 loss=0.4286996136579629 error=0.20708047203146876\n",
      "T=450 loss=0.42868915680628483 error=0.20708047203146876\n",
      "T=455 loss=0.4286790561821974 error=0.20701380092006133\n",
      "T=460 loss=0.4286692974819562 error=0.2071471431428762\n",
      "T=465 loss=0.42865986711497284 error=0.20728048536569105\n",
      "T=470 loss=0.42865075215926607 error=0.20728048536569105\n",
      "T=475 loss=0.4286419403202209 error=0.20734715647709848\n",
      "T=480 loss=0.4286334198924785 error=0.20721381425428362\n",
      "T=485 loss=0.4286251797245736 error=0.20721381425428362\n",
      "T=490 loss=0.4286172091861932 error=0.20721381425428362\n",
      "T=495 loss=0.42860949813775234 error=0.20721381425428362\n"
     ]
    }
   ],
   "source": [
    "np.random.seed(1)\n",
    "alpha = 1  # learning rate\n",
    "beta = np.random.randn(X.shape[1])\n",
    "for T in range(500):\n",
    "    prob = np.array(1. / (1 + np.exp(-np.matmul(X, beta)))).ravel()\n",
    "    prob_y = list(zip(prob, y))\n",
    "    loss = -sum([np.log(p) if y == 1 else np.log(1 - p) for p, y in prob_y]) / len(y)\n",
    "    error_rate = 0\n",
    "    for i in range(len(y)):\n",
    "        if ((prob[i] > 0.5 and y[i] == 0) or (prob[i] <= 0.5 and y[i] == 1)):\n",
    "            error_rate += 1;\n",
    "    error_rate /= len(y)\n",
    "    if T % 5 ==0 :\n",
    "        print('T=' + str(T) + ' loss=' + str(loss) + ' error=' + str(error_rate))\n",
    "    deriv = np.zeros(X.shape[1])\n",
    "    for i in range(len(y)):\n",
    "        deriv += np.asarray(X[i,:]).ravel() * (prob[i] - y[i])\n",
    "    deriv /= len(y)\n",
    "    beta -= alpha * deriv"
   ]
  },
  {
   "cell_type": "code",
   "execution_count": null,
   "metadata": {
    "_cell_guid": "26f1a393-ef12-4244-b828-426b467d60c1",
    "_uuid": "42ef2232af370f853284ce93572d2c2024e73881",
    "collapsed": true
   },
   "outputs": [],
   "source": []
  }
 ],
 "metadata": {
  "kernelspec": {
   "display_name": "Python 3",
   "language": "python",
   "name": "python3"
  },
  "language_info": {
   "codemirror_mode": {
    "name": "ipython",
    "version": 3
   },
   "file_extension": ".py",
   "mimetype": "text/x-python",
   "name": "python",
   "nbconvert_exporter": "python",
   "pygments_lexer": "ipython3",
   "version": "3.6.2"
  }
 },
 "nbformat": 4,
 "nbformat_minor": 1
}
