{
 "cells": [
  {
   "cell_type": "markdown",
   "metadata": {},
   "source": [
    "# Logistic Regression"
   ]
  },
  {
   "cell_type": "code",
   "execution_count": 1,
   "metadata": {
    "_cell_guid": "86989804-26c9-46db-a80f-9e36e681fe6f",
    "_uuid": "0cb5cb0e09787643f40047a8f34ac053bb109406",
    "collapsed": true
   },
   "outputs": [],
   "source": [
    "import numpy as np\n",
    "import pandas as pd\n",
    "from patsy import dmatrices\n",
    "from sklearn.linear_model import LogisticRegression\n",
    "from sklearn.model_selection import train_test_split, cross_val_score\n",
    "from sklearn import metrics\n",
    "import matplotlib.pyplot as plt"
   ]
  },
  {
   "cell_type": "code",
   "execution_count": 4,
   "metadata": {
    "_cell_guid": "f49f9d6a-3ad4-4496-b179-742f80e22ce9",
    "_uuid": "23e98986533c3baf368a2cfc2f23c8098d67f26e"
   },
   "outputs": [
    {
     "data": {
      "text/html": [
       "<div>\n",
       "<style>\n",
       "    .dataframe thead tr:only-child th {\n",
       "        text-align: right;\n",
       "    }\n",
       "\n",
       "    .dataframe thead th {\n",
       "        text-align: left;\n",
       "    }\n",
       "\n",
       "    .dataframe tbody tr th {\n",
       "        vertical-align: top;\n",
       "    }\n",
       "</style>\n",
       "<table border=\"1\" class=\"dataframe\">\n",
       "  <thead>\n",
       "    <tr style=\"text-align: right;\">\n",
       "      <th></th>\n",
       "      <th>satisfaction_level</th>\n",
       "      <th>last_evaluation</th>\n",
       "      <th>number_project</th>\n",
       "      <th>average_montly_hours</th>\n",
       "      <th>time_spend_company</th>\n",
       "      <th>Work_accident</th>\n",
       "      <th>left</th>\n",
       "      <th>promotion_last_5years</th>\n",
       "      <th>sales</th>\n",
       "      <th>salary</th>\n",
       "    </tr>\n",
       "  </thead>\n",
       "  <tbody>\n",
       "    <tr>\n",
       "      <th>0</th>\n",
       "      <td>0.38</td>\n",
       "      <td>0.53</td>\n",
       "      <td>2</td>\n",
       "      <td>157</td>\n",
       "      <td>3</td>\n",
       "      <td>0</td>\n",
       "      <td>1</td>\n",
       "      <td>0</td>\n",
       "      <td>sales</td>\n",
       "      <td>low</td>\n",
       "    </tr>\n",
       "    <tr>\n",
       "      <th>1</th>\n",
       "      <td>0.80</td>\n",
       "      <td>0.86</td>\n",
       "      <td>5</td>\n",
       "      <td>262</td>\n",
       "      <td>6</td>\n",
       "      <td>0</td>\n",
       "      <td>1</td>\n",
       "      <td>0</td>\n",
       "      <td>sales</td>\n",
       "      <td>medium</td>\n",
       "    </tr>\n",
       "    <tr>\n",
       "      <th>2</th>\n",
       "      <td>0.11</td>\n",
       "      <td>0.88</td>\n",
       "      <td>7</td>\n",
       "      <td>272</td>\n",
       "      <td>4</td>\n",
       "      <td>0</td>\n",
       "      <td>1</td>\n",
       "      <td>0</td>\n",
       "      <td>sales</td>\n",
       "      <td>medium</td>\n",
       "    </tr>\n",
       "    <tr>\n",
       "      <th>3</th>\n",
       "      <td>0.72</td>\n",
       "      <td>0.87</td>\n",
       "      <td>5</td>\n",
       "      <td>223</td>\n",
       "      <td>5</td>\n",
       "      <td>0</td>\n",
       "      <td>1</td>\n",
       "      <td>0</td>\n",
       "      <td>sales</td>\n",
       "      <td>low</td>\n",
       "    </tr>\n",
       "    <tr>\n",
       "      <th>4</th>\n",
       "      <td>0.37</td>\n",
       "      <td>0.52</td>\n",
       "      <td>2</td>\n",
       "      <td>159</td>\n",
       "      <td>3</td>\n",
       "      <td>0</td>\n",
       "      <td>1</td>\n",
       "      <td>0</td>\n",
       "      <td>sales</td>\n",
       "      <td>low</td>\n",
       "    </tr>\n",
       "  </tbody>\n",
       "</table>\n",
       "</div>"
      ],
      "text/plain": [
       "   satisfaction_level  last_evaluation  number_project  average_montly_hours  \\\n",
       "0                0.38             0.53               2                   157   \n",
       "1                0.80             0.86               5                   262   \n",
       "2                0.11             0.88               7                   272   \n",
       "3                0.72             0.87               5                   223   \n",
       "4                0.37             0.52               2                   159   \n",
       "\n",
       "   time_spend_company  Work_accident  left  promotion_last_5years  sales  \\\n",
       "0                   3              0     1                      0  sales   \n",
       "1                   6              0     1                      0  sales   \n",
       "2                   4              0     1                      0  sales   \n",
       "3                   5              0     1                      0  sales   \n",
       "4                   3              0     1                      0  sales   \n",
       "\n",
       "   salary  \n",
       "0     low  \n",
       "1  medium  \n",
       "2  medium  \n",
       "3     low  \n",
       "4     low  "
      ]
     },
     "execution_count": 4,
     "metadata": {},
     "output_type": "execute_result"
    }
   ],
   "source": [
    "data = pd.read_csv(\"../input/HR_comma_sep.csv\")\n",
    "data.head()"
   ]
  },
  {
   "cell_type": "code",
   "execution_count": 5,
   "metadata": {
    "_cell_guid": "ddf128b4-5f08-4a09-b8fb-6cfaa00efde3",
    "_uuid": "7957141ed636f30c3134129e5bb5ca048de4d560"
   },
   "outputs": [
    {
     "data": {
      "text/plain": [
       "satisfaction_level       float64\n",
       "last_evaluation          float64\n",
       "number_project             int64\n",
       "average_montly_hours       int64\n",
       "time_spend_company         int64\n",
       "Work_accident              int64\n",
       "left                       int64\n",
       "promotion_last_5years      int64\n",
       "sales                     object\n",
       "salary                    object\n",
       "dtype: object"
      ]
     },
     "execution_count": 5,
     "metadata": {},
     "output_type": "execute_result"
    }
   ],
   "source": [
    "data.dtypes"
   ]
  },
  {
   "cell_type": "code",
   "execution_count": 6,
   "metadata": {
    "_cell_guid": "4bb0aee7-bdde-4a62-90b2-379b767060de",
    "_uuid": "4e7949ac76e340e0f2f0c4f99c1ee77c5ed20607",
    "scrolled": false
   },
   "outputs": [
    {
     "data": {
      "image/png": "[encoded data removed]",
      "text/plain": [
       "<matplotlib.figure.Figure at 0x114528a20>"
      ]
     },
     "metadata": {},
     "output_type": "display_data"
    }
   ],
   "source": [
    "pd.crosstab(data.salary, data.left).plot(kind='bar')\n",
    "plt.show()"
   ]
  },
  {
   "cell_type": "code",
   "execution_count": 7,
   "metadata": {
    "_cell_guid": "91405333-e851-4aa2-a710-defcc5f37dcb",
    "_uuid": "27abeb49dba5f7a3d2409463ad1119d1a818c152"
   },
   "outputs": [
    {
     "name": "stdout",
     "output_type": "stream",
     "text": [
      "left       0     1\n",
      "salary            \n",
      "high    1155    82\n",
      "low     5144  2172\n",
      "medium  5129  1317\n",
      "salary\n",
      "high      1237\n",
      "low       7316\n",
      "medium    6446\n",
      "dtype: int64\n"
     ]
    },
    {
     "data": {
      "image/png": "[encoded data removed]",
      "text/plain": [
       "<matplotlib.figure.Figure at 0x114b7b438>"
      ]
     },
     "metadata": {},
     "output_type": "display_data"
    }
   ],
   "source": [
    "q = pd.crosstab(data.salary, data.left)\n",
    "print(q)\n",
    "print(q.sum(1))\n",
    "q.div(q.sum(1), axis = 0).plot(kind='bar', stacked = True)\n",
    "plt.show()"
   ]
  },
  {
   "cell_type": "code",
   "execution_count": 8,
   "metadata": {
    "_cell_guid": "974a0e38-8dcf-4602-9584-784738abba7f",
    "_uuid": "bd786f958c3f72e6c64ae3d7a132c6ee6f639672",
    "scrolled": true
   },
   "outputs": [
    {
     "data": {
      "image/png": "[encoded data removed]",
      "text/plain": [
       "<matplotlib.figure.Figure at 0x114c00a58>"
      ]
     },
     "metadata": {},
     "output_type": "display_data"
    }
   ],
   "source": [
    "data[data.left==0].satisfaction_level.hist()\n",
    "plt.show()"
   ]
  },
  {
   "cell_type": "code",
   "execution_count": 9,
   "metadata": {
    "_cell_guid": "86b99a99-1ff6-4827-bae1-de997fe2f403",
    "_uuid": "98f83ae34d3c22aa8140e18e86b6ddeb41582cf2"
   },
   "outputs": [
    {
     "data": {
      "image/png": "[encoded data removed]",
      "text/plain": [
       "<matplotlib.figure.Figure at 0x11512d6a0>"
      ]
     },
     "metadata": {},
     "output_type": "display_data"
    }
   ],
   "source": [
    "data[data.left==1].satisfaction_level.hist()\n",
    "plt.show()"
   ]
  },
  {
   "cell_type": "code",
   "execution_count": 10,
   "metadata": {
    "_cell_guid": "b6dca5fc-6add-47a3-8c49-4b9043c86657",
    "_uuid": "b771b5839d4b4837cb5b64e02017fe83db4917e3",
    "collapsed": true
   },
   "outputs": [],
   "source": [
    "model = LogisticRegression()\n",
    "y, X = dmatrices('left~satisfaction_level+last_evaluation+number_project+average_montly_hours+time_spend_company+Work_accident+promotion_last_5years+C(sales)+C(salary)', data, return_type='dataframe')\n",
    "X = X.rename(columns = {\n",
    "    'C(sales)[T.RandD]': 'Department: Random',\n",
    "    'C(sales)[T.accounting]': 'Department: Accounting',\n",
    "    'C(sales)[T.hr]': 'Department: HR',\n",
    "    'C(sales)[T.management]': 'Department: Management',\n",
    "    'C(sales)[T.marketing]': 'Department: Marketing',\n",
    "    'C(sales)[T.product_mng]': 'Department: Product_Management',\n",
    "    'C(sales)[T.sales]': 'Department: Sales',\n",
    "    'C(sales)[T.support]': 'Department: Support',\n",
    "    'C(sales)[T.technical]': 'Department: Technical',\n",
    "    'C(salary)[T.low]': 'Salary: Low',\n",
    "    'C(salary)[T.medium]': 'Salary: Medium'}) \n",
    "y = np.ravel(y)"
   ]
  },
  {
   "cell_type": "code",
   "execution_count": 11,
   "metadata": {
    "_cell_guid": "93454c1e-880a-432b-9c93-189bc2eaa020",
    "_uuid": "8c307c7e2e7fbeb51bfd6c3d15629df049456a2e"
   },
   "outputs": [
    {
     "data": {
      "text/html": [
       "<div>\n",
       "<style>\n",
       "    .dataframe thead tr:only-child th {\n",
       "        text-align: right;\n",
       "    }\n",
       "\n",
       "    .dataframe thead th {\n",
       "        text-align: left;\n",
       "    }\n",
       "\n",
       "    .dataframe tbody tr th {\n",
       "        vertical-align: top;\n",
       "    }\n",
       "</style>\n",
       "<table border=\"1\" class=\"dataframe\">\n",
       "  <thead>\n",
       "    <tr style=\"text-align: right;\">\n",
       "      <th></th>\n",
       "      <th>0</th>\n",
       "      <th>1</th>\n",
       "    </tr>\n",
       "  </thead>\n",
       "  <tbody>\n",
       "    <tr>\n",
       "      <th>0</th>\n",
       "      <td>Intercept</td>\n",
       "      <td>[-0.6868217690448722]</td>\n",
       "    </tr>\n",
       "    <tr>\n",
       "      <th>1</th>\n",
       "      <td>Department: Random</td>\n",
       "      <td>[-0.48976297868905333]</td>\n",
       "    </tr>\n",
       "    <tr>\n",
       "      <th>2</th>\n",
       "      <td>Department: Accounting</td>\n",
       "      <td>[0.09539253902882777]</td>\n",
       "    </tr>\n",
       "    <tr>\n",
       "      <th>3</th>\n",
       "      <td>Department: HR</td>\n",
       "      <td>[0.32867147170797184]</td>\n",
       "    </tr>\n",
       "    <tr>\n",
       "      <th>4</th>\n",
       "      <td>Department: Management</td>\n",
       "      <td>[-0.4010970207737443]</td>\n",
       "    </tr>\n",
       "    <tr>\n",
       "      <th>5</th>\n",
       "      <td>Department: Marketing</td>\n",
       "      <td>[0.08974405786534]</td>\n",
       "    </tr>\n",
       "    <tr>\n",
       "      <th>6</th>\n",
       "      <td>Department: Product_Management</td>\n",
       "      <td>[-0.04095297080107228]</td>\n",
       "    </tr>\n",
       "    <tr>\n",
       "      <th>7</th>\n",
       "      <td>Department: Sales</td>\n",
       "      <td>[0.07497091434455476]</td>\n",
       "    </tr>\n",
       "    <tr>\n",
       "      <th>8</th>\n",
       "      <td>Department: Support</td>\n",
       "      <td>[0.16836017927618943]</td>\n",
       "    </tr>\n",
       "    <tr>\n",
       "      <th>9</th>\n",
       "      <td>Department: Technical</td>\n",
       "      <td>[0.17302141071948313]</td>\n",
       "    </tr>\n",
       "    <tr>\n",
       "      <th>10</th>\n",
       "      <td>Salary: Low</td>\n",
       "      <td>[1.7821034072941926]</td>\n",
       "    </tr>\n",
       "    <tr>\n",
       "      <th>11</th>\n",
       "      <td>Salary: Medium</td>\n",
       "      <td>[1.256256541837467]</td>\n",
       "    </tr>\n",
       "    <tr>\n",
       "      <th>12</th>\n",
       "      <td>satisfaction_level</td>\n",
       "      <td>[-4.1282373106984]</td>\n",
       "    </tr>\n",
       "    <tr>\n",
       "      <th>13</th>\n",
       "      <td>last_evaluation</td>\n",
       "      <td>[0.7331420440818511]</td>\n",
       "    </tr>\n",
       "    <tr>\n",
       "      <th>14</th>\n",
       "      <td>number_project</td>\n",
       "      <td>[-0.3141378920985626]</td>\n",
       "    </tr>\n",
       "    <tr>\n",
       "      <th>15</th>\n",
       "      <td>average_montly_hours</td>\n",
       "      <td>[0.004244712014221416]</td>\n",
       "    </tr>\n",
       "    <tr>\n",
       "      <th>16</th>\n",
       "      <td>time_spend_company</td>\n",
       "      <td>[0.26068840825539963]</td>\n",
       "    </tr>\n",
       "    <tr>\n",
       "      <th>17</th>\n",
       "      <td>Work_accident</td>\n",
       "      <td>[-1.5230812134697498]</td>\n",
       "    </tr>\n",
       "    <tr>\n",
       "      <th>18</th>\n",
       "      <td>promotion_last_5years</td>\n",
       "      <td>[-1.0878429285225624]</td>\n",
       "    </tr>\n",
       "  </tbody>\n",
       "</table>\n",
       "</div>"
      ],
      "text/plain": [
       "                                 0                       1\n",
       "0                        Intercept   [-0.6868217690448722]\n",
       "1               Department: Random  [-0.48976297868905333]\n",
       "2           Department: Accounting   [0.09539253902882777]\n",
       "3                   Department: HR   [0.32867147170797184]\n",
       "4           Department: Management   [-0.4010970207737443]\n",
       "5            Department: Marketing      [0.08974405786534]\n",
       "6   Department: Product_Management  [-0.04095297080107228]\n",
       "7                Department: Sales   [0.07497091434455476]\n",
       "8              Department: Support   [0.16836017927618943]\n",
       "9            Department: Technical   [0.17302141071948313]\n",
       "10                     Salary: Low    [1.7821034072941926]\n",
       "11                  Salary: Medium     [1.256256541837467]\n",
       "12              satisfaction_level      [-4.1282373106984]\n",
       "13                 last_evaluation    [0.7331420440818511]\n",
       "14                  number_project   [-0.3141378920985626]\n",
       "15            average_montly_hours  [0.004244712014221416]\n",
       "16              time_spend_company   [0.26068840825539963]\n",
       "17                   Work_accident   [-1.5230812134697498]\n",
       "18           promotion_last_5years   [-1.0878429285225624]"
      ]
     },
     "execution_count": 11,
     "metadata": {},
     "output_type": "execute_result"
    }
   ],
   "source": [
    "model.fit(X, y)\n",
    "pd.DataFrame(list(zip(X.columns, np.transpose(model.coef_))))\n"
   ]
  },
  {
   "cell_type": "code",
   "execution_count": 12,
   "metadata": {
    "_cell_guid": "3beb638c-a5cb-4d8c-8c33-c40fb1b858a1",
    "_uuid": "a3211d55c9ea49137972fc68abe8941ac09994e1"
   },
   "outputs": [
    {
     "name": "stdout",
     "output_type": "stream",
     "text": [
      "0.793652910194013\n",
      "0.793652910194013\n"
     ]
    }
   ],
   "source": [
    "print(model.score(X,y))\n",
    "print(1 - sum(abs(model.predict(X) - y)) / len(X)) "
   ]
  },
  {
   "cell_type": "code",
   "execution_count": 13,
   "metadata": {
    "_cell_guid": "e7d5f70d-8420-42fa-af48-f6563297b2b4",
    "_uuid": "07ea225da8c82ea52dc9849c8159ef6b9f2b0368"
   },
   "outputs": [
    {
     "data": {
      "text/plain": [
       "0.20634708980598707"
      ]
     },
     "execution_count": 13,
     "metadata": {},
     "output_type": "execute_result"
    }
   ],
   "source": [
    "pred = model.predict(X)\n",
    "(abs(pred-y)).sum() / len(y)"
   ]
  },
  {
   "cell_type": "code",
   "execution_count": 14,
   "metadata": {
    "_cell_guid": "1460e0cb-a956-4e9b-8b02-bffac44eb59a",
    "_uuid": "0695810436a508bc5b38c2756bbb8a307dc0b41e"
   },
   "outputs": [
    {
     "data": {
      "text/plain": [
       "LogisticRegression(C=1.0, class_weight=None, dual=False, fit_intercept=True,\n",
       "          intercept_scaling=1, max_iter=100, multi_class='ovr', n_jobs=1,\n",
       "          penalty='l2', random_state=None, solver='liblinear', tol=0.0001,\n",
       "          verbose=0, warm_start=False)"
      ]
     },
     "execution_count": 14,
     "metadata": {},
     "output_type": "execute_result"
    }
   ],
   "source": [
    "Xtrain,Xtest,ytrain,ytest=train_test_split(X, y, test_size=0.2, random_state=0)\n",
    "model2 = LogisticRegression()\n",
    "model2.fit(Xtrain, ytrain)"
   ]
  },
  {
   "cell_type": "code",
   "execution_count": 15,
   "metadata": {
    "_cell_guid": "95202ad0-141e-4a6d-a918-0e9201a8f04e",
    "_uuid": "89df8f63f61a1cd7fe12fa1cc10798944904e3da"
   },
   "outputs": [
    {
     "data": {
      "text/plain": [
       "0.787"
      ]
     },
     "execution_count": 15,
     "metadata": {},
     "output_type": "execute_result"
    }
   ],
   "source": [
    "model2 = LogisticRegression(C=10000)\n",
    "model2.fit(Xtrain, ytrain)\n",
    "pred = model2.predict(Xtest)\n",
    "metrics.accuracy_score(ytest, pred)"
   ]
  },
  {
   "cell_type": "code",
   "execution_count": 16,
   "metadata": {
    "_cell_guid": "d8da2382-9572-40e8-b9ab-d216d257f67e",
    "_uuid": "7b297e4a4c02a234036b775c8aea49a42f3211b8"
   },
   "outputs": [
    {
     "data": {
      "text/plain": [
       "array([[2133,  166],\n",
       "       [ 473,  228]])"
      ]
     },
     "execution_count": 16,
     "metadata": {},
     "output_type": "execute_result"
    }
   ],
   "source": [
    "metrics.confusion_matrix(ytest, pred)\n",
    "#        prediction\n",
    "#\n",
    "#\n",
    "#actual\n",
    "#\n",
    "#\n",
    "#"
   ]
  },
  {
   "cell_type": "code",
   "execution_count": 17,
   "metadata": {
    "_cell_guid": "d529d26c-fc11-4be8-909b-aa1edda9f987",
    "_uuid": "2f1781cf298e73ca9af880b0c8a37456c6225693",
    "scrolled": false
   },
   "outputs": [
    {
     "name": "stdout",
     "output_type": "stream",
     "text": [
      "             precision    recall  f1-score   support\n",
      "\n",
      "        0.0       0.82      0.93      0.87      2299\n",
      "        1.0       0.58      0.33      0.42       701\n",
      "\n",
      "avg / total       0.76      0.79      0.76      3000\n",
      "\n"
     ]
    }
   ],
   "source": [
    "#sklearn.metrics.classification_report(y_true, y_pred)\n",
    "print(metrics.classification_report(ytest, pred))\n"
   ]
  },
  {
   "cell_type": "code",
   "execution_count": 18,
   "metadata": {
    "_cell_guid": "b6449f15-d544-4562-ac3c-da63821edb28",
    "_uuid": "3945ee226e6527a24f6cb7d4be9a5a482c9ba54d"
   },
   "outputs": [
    {
     "name": "stdout",
     "output_type": "stream",
     "text": [
      "[0.80746169 0.792      0.79533333 0.78733333 0.804      0.804\n",
      " 0.79266667 0.79       0.74449633 0.73582388]\n"
     ]
    }
   ],
   "source": [
    "print(cross_val_score(LogisticRegression(), X, y, scoring='accuracy', cv=10))"
   ]
  },
  {
   "cell_type": "code",
   "execution_count": null,
   "metadata": {
    "collapsed": true
   },
   "outputs": [],
   "source": []
  }
 ],
 "metadata": {
  "kernelspec": {
   "display_name": "Python 3",
   "language": "python",
   "name": "python3"
  },
  "language_info": {
   "codemirror_mode": {
    "name": "ipython",
    "version": 3
   },
   "file_extension": ".py",
   "mimetype": "text/x-python",
   "name": "python",
   "nbconvert_exporter": "python",
   "pygments_lexer": "ipython3",
   "version": "3.6.2"
  }
 },
 "nbformat": 4,
 "nbformat_minor": 1
}
