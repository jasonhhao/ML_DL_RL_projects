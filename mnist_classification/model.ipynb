{
 "cells": [
  {
   "cell_type": "markdown",
   "metadata": {},
   "source": [
    "data from https://www.kaggle.com/zalando-research/fashionmnist"
   ]
  },
  {
   "cell_type": "code",
   "execution_count": 11,
   "metadata": {
    "collapsed": true
   },
   "outputs": [],
   "source": [
    "import os\n",
    "import pandas as pd\n",
    "import numpy as np\n",
    "import matplotlib.pyplot as plt\n",
    "import time\n",
    "from sklearn.linear_model import LogisticRegression\n",
    "from sklearn.neighbors import KNeighborsClassifier\n",
    "from sklearn.tree import DecisionTreeClassifier\n",
    "from sklearn.svm import SVC\n",
    "from sklearn.ensemble import AdaBoostClassifier, GradientBoostingClassifier, RandomForestClassifier\n",
    "from sklearn.model_selection import GridSearchCV\n",
    "import cv2\n",
    "from sklearn.preprocessing import StandardScaler"
   ]
  },
  {
   "cell_type": "code",
   "execution_count": 12,
   "metadata": {
    "collapsed": true
   },
   "outputs": [],
   "source": [
    "train_data = pd.read_csv('fashion-mnist_train.csv')\n",
    "test_data = pd.read_csv('fashion-mnist_test.csv')\n",
    "\n",
    "X_train = train_data.iloc[:, 1:].values.astype(np.uint8)\n",
    "y_train = train_data.iloc[:, 0].values.astype(np.uint8)\n",
    "\n",
    "X_test = test_data.iloc[:, 1:].values.astype(np.uint8)\n",
    "y_test = test_data.iloc[:, 0].values.astype(np.uint8)"
   ]
  },
  {
   "cell_type": "code",
   "execution_count": 13,
   "metadata": {
    "collapsed": true
   },
   "outputs": [],
   "source": [
    "n_samples = X_train.shape[0]\n",
    "feat_list = []\n",
    "for i in range(n_samples):\n",
    "    img_data = X_train[i, :].reshape(28, 28)\n",
    "    blur_img_data = cv2.medianBlur(img_data, 3)\n",
    "    equ_blur_img_data = cv2.equalizeHist(blur_img_data)\n",
    "    feat = equ_blur_img_data.flatten()\n",
    "    feat_list.append(feat)\n",
    "feats_train = np.array(feat_list)"
   ]
  },
  {
   "cell_type": "code",
   "execution_count": 14,
   "metadata": {
    "collapsed": true
   },
   "outputs": [],
   "source": [
    "n_samples = X_test.shape[0]\n",
    "feat_list = []\n",
    "for i in range(n_samples):\n",
    "    img_data = X_test[i, :].reshape(28, 28)\n",
    "    blur_img_data = cv2.medianBlur(img_data, 3)\n",
    "    equ_blur_img_data = cv2.equalizeHist(blur_img_data)\n",
    "    feat = equ_blur_img_data.flatten()\n",
    "    feat_list.append(feat)\n",
    "feats_test = np.array(feat_list)"
   ]
  },
  {
   "cell_type": "code",
   "execution_count": 15,
   "metadata": {
    "collapsed": true
   },
   "outputs": [],
   "source": [
    "std_scaler = StandardScaler()\n",
    "proc_feats_train = std_scaler.fit_transform(feats_train.astype(np.float64))\n",
    "proc_feats_test = std_scaler.transform(feats_test.astype(np.float64))"
   ]
  },
  {
   "cell_type": "code",
   "execution_count": 16,
   "metadata": {
    "collapsed": true
   },
   "outputs": [],
   "source": [
    "def train_model(X_train, y_train, X_test, y_test, model_name, model, param_range):\n",
    "\n",
    "    clf = GridSearchCV(estimator=model,\n",
    "                       param_grid=param_range,\n",
    "                       cv=3,\n",
    "                       scoring='accuracy',\n",
    "                       refit=True)\n",
    "\n",
    "    clf.fit(X_train, y_train)\n",
    "\n",
    "    print('train acc：{:.3f}'.format(clf.score(X_train, y_train)))\n",
    "\n",
    "    score = clf.score(X_test, y_test)\n",
    "    print('test acc：{:.3f}'.format(score))\n",
    "\n",
    "    return clf, score, duration"
   ]
  },
  {
   "cell_type": "code",
   "execution_count": null,
   "metadata": {
    "collapsed": true
   },
   "outputs": [],
   "source": [
    "\n",
    "model_name_param_dict = {'kNN': (KNeighborsClassifier(),\n",
    "                                 {'n_neighbors': [5, 25, 55]}),\n",
    "                         'LR': (LogisticRegression(),\n",
    "                                {'C': [0.01, 1, 100]}),\n",
    "                         'SVM': (SVC(kernel='linear'),\n",
    "                                 {'C': [0.01, 1, 100]}),\n",
    "                         'DT': (DecisionTreeClassifier(),\n",
    "                                {'max_depth': [50, 100, 150]}),\n",
    "                         'AdaBoost': (AdaBoostClassifier(),\n",
    "                                      {'n_estimators': [100, 150, 200]}),\n",
    "                         'GBDT': (GradientBoostingClassifier(),\n",
    "                                  {'learning_rate': [0.01, 1, 100]}),\n",
    "                         'RF': (RandomForestClassifier(),\n",
    "                                {'n_estimators': [100, 150, 200]})}\n",
    "\n",
    "\n",
    "results_df = pd.DataFrame(columns=['Accuracy (%)', 'Time (s)'],\n",
    "                          index=list(model_name_param_dict.keys()))\n",
    "results_df.index.name = 'Model'\n",
    "\n",
    "for model_name, (model, param_range) in model_name_param_dict.items():\n",
    "    best_clf, best_acc, mean_duration = train_model(proc_feats_train, y_train, proc_feats_test, y_test,\n",
    "                                                    model_name, model, param_range)\n",
    "    results_df.loc[model_name, 'Accuracy (%)'] = best_acc * 100\n",
    "    results_df.loc[model_name, 'Time (s)'] = mean_duration\n",
    "\n",
    "results_df"
   ]
  }
 ],
 "metadata": {
  "kernelspec": {
   "display_name": "Python 3",
   "language": "python",
   "name": "python3"
  },
  "language_info": {
   "codemirror_mode": {
    "name": "ipython",
    "version": 3
   },
   "file_extension": ".py",
   "mimetype": "text/x-python",
   "name": "python",
   "nbconvert_exporter": "python",
   "pygments_lexer": "ipython3",
   "version": "3.6.2"
  }
 },
 "nbformat": 4,
 "nbformat_minor": 2
}
